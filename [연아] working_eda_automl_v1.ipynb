{
 "cells": [
  {
   "cell_type": "markdown",
   "metadata": {},
   "source": [
    "## 구직자 데이터 불러오기"
   ]
  },
  {
   "cell_type": "code",
   "execution_count": 1,
   "metadata": {},
   "outputs": [],
   "source": [
    "import pandas as pd\n",
    "import numpy as np\n",
    "import matplotlib.pyplot as plt\n",
    "import seaborn as sns\n",
    "from matplotlib import font_manager, rc\n",
    "%matplotlib inline\n",
    "\n",
    "rc('font', family='AppleGothic')\n",
    "plt.rcParams['axes.unicode_minus'] = False"
   ]
  },
  {
   "cell_type": "code",
   "execution_count": 2,
   "metadata": {},
   "outputs": [],
   "source": [
    "df = pd.read_csv('장애인취업정보.csv', encoding='euc-kr')"
   ]
  },
  {
   "cell_type": "code",
   "execution_count": 3,
   "metadata": {},
   "outputs": [],
   "source": [
    "df['근무지역'] = df['근무지역'].str[:2]\n",
    "df = df.dropna()"
   ]
  },
  {
   "cell_type": "code",
   "execution_count": 4,
   "metadata": {},
   "outputs": [
    {
     "data": {
      "text/html": [
       "<div>\n",
       "<style scoped>\n",
       "    .dataframe tbody tr th:only-of-type {\n",
       "        vertical-align: middle;\n",
       "    }\n",
       "\n",
       "    .dataframe tbody tr th {\n",
       "        vertical-align: top;\n",
       "    }\n",
       "\n",
       "    .dataframe thead th {\n",
       "        text-align: right;\n",
       "    }\n",
       "</style>\n",
       "<table border=\"1\" class=\"dataframe\">\n",
       "  <thead>\n",
       "    <tr style=\"text-align: right;\">\n",
       "      <th></th>\n",
       "      <th>순번</th>\n",
       "      <th>취업일자</th>\n",
       "      <th>연령</th>\n",
       "      <th>장애유형</th>\n",
       "      <th>중증여부</th>\n",
       "      <th>근무지역</th>\n",
       "      <th>취업직종대분류</th>\n",
       "    </tr>\n",
       "  </thead>\n",
       "  <tbody>\n",
       "    <tr>\n",
       "      <th>0</th>\n",
       "      <td>1.0</td>\n",
       "      <td>2022-06-01</td>\n",
       "      <td>26.0</td>\n",
       "      <td>정신장애</td>\n",
       "      <td>중증</td>\n",
       "      <td>경기</td>\n",
       "      <td>경영·행정·사무직</td>\n",
       "    </tr>\n",
       "    <tr>\n",
       "      <th>1</th>\n",
       "      <td>2.0</td>\n",
       "      <td>2022-01-01</td>\n",
       "      <td>28.0</td>\n",
       "      <td>지적장애</td>\n",
       "      <td>중증</td>\n",
       "      <td>충북</td>\n",
       "      <td>경영·행정·사무직</td>\n",
       "    </tr>\n",
       "    <tr>\n",
       "      <th>2</th>\n",
       "      <td>3.0</td>\n",
       "      <td>2022-01-01</td>\n",
       "      <td>19.0</td>\n",
       "      <td>지적장애</td>\n",
       "      <td>중증</td>\n",
       "      <td>충북</td>\n",
       "      <td>경영·행정·사무직</td>\n",
       "    </tr>\n",
       "    <tr>\n",
       "      <th>3</th>\n",
       "      <td>4.0</td>\n",
       "      <td>2022-01-01</td>\n",
       "      <td>22.0</td>\n",
       "      <td>지적장애</td>\n",
       "      <td>중증</td>\n",
       "      <td>충북</td>\n",
       "      <td>경영·행정·사무직</td>\n",
       "    </tr>\n",
       "    <tr>\n",
       "      <th>4</th>\n",
       "      <td>5.0</td>\n",
       "      <td>2022-01-01</td>\n",
       "      <td>23.0</td>\n",
       "      <td>지적장애</td>\n",
       "      <td>중증</td>\n",
       "      <td>충북</td>\n",
       "      <td>경영·행정·사무직</td>\n",
       "    </tr>\n",
       "    <tr>\n",
       "      <th>...</th>\n",
       "      <td>...</td>\n",
       "      <td>...</td>\n",
       "      <td>...</td>\n",
       "      <td>...</td>\n",
       "      <td>...</td>\n",
       "      <td>...</td>\n",
       "      <td>...</td>\n",
       "    </tr>\n",
       "    <tr>\n",
       "      <th>45112</th>\n",
       "      <td>45113.0</td>\n",
       "      <td>2022-12-02</td>\n",
       "      <td>72.0</td>\n",
       "      <td>지체장애</td>\n",
       "      <td>경증</td>\n",
       "      <td>강원</td>\n",
       "      <td>청소 및 기타 개인서비스직</td>\n",
       "    </tr>\n",
       "    <tr>\n",
       "      <th>45113</th>\n",
       "      <td>45114.0</td>\n",
       "      <td>2022-12-19</td>\n",
       "      <td>24.0</td>\n",
       "      <td>지체장애</td>\n",
       "      <td>경증</td>\n",
       "      <td>경기</td>\n",
       "      <td>정보통신 연구개발직 및 공학기술직</td>\n",
       "    </tr>\n",
       "    <tr>\n",
       "      <th>45114</th>\n",
       "      <td>45115.0</td>\n",
       "      <td>2022-03-21</td>\n",
       "      <td>67.0</td>\n",
       "      <td>지체장애</td>\n",
       "      <td>중증</td>\n",
       "      <td>경기</td>\n",
       "      <td>제조 단순직</td>\n",
       "    </tr>\n",
       "    <tr>\n",
       "      <th>45115</th>\n",
       "      <td>45116.0</td>\n",
       "      <td>2022-09-15</td>\n",
       "      <td>28.0</td>\n",
       "      <td>시각장애</td>\n",
       "      <td>경증</td>\n",
       "      <td>대구</td>\n",
       "      <td>경영·행정·사무직</td>\n",
       "    </tr>\n",
       "    <tr>\n",
       "      <th>45116</th>\n",
       "      <td>45117.0</td>\n",
       "      <td>2022-11-28</td>\n",
       "      <td>30.0</td>\n",
       "      <td>지체장애</td>\n",
       "      <td>중증</td>\n",
       "      <td>울산</td>\n",
       "      <td>제조 연구개발직 및 공학기술직</td>\n",
       "    </tr>\n",
       "  </tbody>\n",
       "</table>\n",
       "<p>45117 rows × 7 columns</p>\n",
       "</div>"
      ],
      "text/plain": [
       "            순번        취업일자    연령  장애유형 중증여부 근무지역             취업직종대분류\n",
       "0          1.0  2022-06-01  26.0  정신장애   중증   경기           경영·행정·사무직\n",
       "1          2.0  2022-01-01  28.0  지적장애   중증   충북           경영·행정·사무직\n",
       "2          3.0  2022-01-01  19.0  지적장애   중증   충북           경영·행정·사무직\n",
       "3          4.0  2022-01-01  22.0  지적장애   중증   충북           경영·행정·사무직\n",
       "4          5.0  2022-01-01  23.0  지적장애   중증   충북           경영·행정·사무직\n",
       "...        ...         ...   ...   ...  ...  ...                 ...\n",
       "45112  45113.0  2022-12-02  72.0  지체장애   경증   강원      청소 및 기타 개인서비스직\n",
       "45113  45114.0  2022-12-19  24.0  지체장애   경증   경기  정보통신 연구개발직 및 공학기술직\n",
       "45114  45115.0  2022-03-21  67.0  지체장애   중증   경기              제조 단순직\n",
       "45115  45116.0  2022-09-15  28.0  시각장애   경증   대구           경영·행정·사무직\n",
       "45116  45117.0  2022-11-28  30.0  지체장애   중증   울산    제조 연구개발직 및 공학기술직\n",
       "\n",
       "[45117 rows x 7 columns]"
      ]
     },
     "execution_count": 4,
     "metadata": {},
     "output_type": "execute_result"
    }
   ],
   "source": [
    "df"
   ]
  },
  {
   "cell_type": "markdown",
   "metadata": {},
   "source": [
    "## ml_df 설정"
   ]
  },
  {
   "cell_type": "code",
   "execution_count": 7,
   "metadata": {},
   "outputs": [],
   "source": [
    "from sklearn.preprocessing import LabelEncoder"
   ]
  },
  {
   "cell_type": "code",
   "execution_count": 8,
   "metadata": {},
   "outputs": [],
   "source": [
    "ml_df = df[['연령', '장애유형', '중증여부', '근무지역','취업직종대분류']].copy()"
   ]
  },
  {
   "cell_type": "code",
   "execution_count": 9,
   "metadata": {
    "scrolled": false
   },
   "outputs": [
    {
     "data": {
      "text/html": [
       "<div>\n",
       "<style scoped>\n",
       "    .dataframe tbody tr th:only-of-type {\n",
       "        vertical-align: middle;\n",
       "    }\n",
       "\n",
       "    .dataframe tbody tr th {\n",
       "        vertical-align: top;\n",
       "    }\n",
       "\n",
       "    .dataframe thead th {\n",
       "        text-align: right;\n",
       "    }\n",
       "</style>\n",
       "<table border=\"1\" class=\"dataframe\">\n",
       "  <thead>\n",
       "    <tr style=\"text-align: right;\">\n",
       "      <th></th>\n",
       "      <th>연령</th>\n",
       "      <th>장애유형</th>\n",
       "      <th>중증여부</th>\n",
       "      <th>근무지역</th>\n",
       "      <th>취업직종대분류</th>\n",
       "    </tr>\n",
       "  </thead>\n",
       "  <tbody>\n",
       "    <tr>\n",
       "      <th>0</th>\n",
       "      <td>26.0</td>\n",
       "      <td>정신장애</td>\n",
       "      <td>중증</td>\n",
       "      <td>경기</td>\n",
       "      <td>경영·행정·사무직</td>\n",
       "    </tr>\n",
       "    <tr>\n",
       "      <th>1</th>\n",
       "      <td>28.0</td>\n",
       "      <td>지적장애</td>\n",
       "      <td>중증</td>\n",
       "      <td>충북</td>\n",
       "      <td>경영·행정·사무직</td>\n",
       "    </tr>\n",
       "    <tr>\n",
       "      <th>2</th>\n",
       "      <td>19.0</td>\n",
       "      <td>지적장애</td>\n",
       "      <td>중증</td>\n",
       "      <td>충북</td>\n",
       "      <td>경영·행정·사무직</td>\n",
       "    </tr>\n",
       "    <tr>\n",
       "      <th>3</th>\n",
       "      <td>22.0</td>\n",
       "      <td>지적장애</td>\n",
       "      <td>중증</td>\n",
       "      <td>충북</td>\n",
       "      <td>경영·행정·사무직</td>\n",
       "    </tr>\n",
       "    <tr>\n",
       "      <th>4</th>\n",
       "      <td>23.0</td>\n",
       "      <td>지적장애</td>\n",
       "      <td>중증</td>\n",
       "      <td>충북</td>\n",
       "      <td>경영·행정·사무직</td>\n",
       "    </tr>\n",
       "    <tr>\n",
       "      <th>...</th>\n",
       "      <td>...</td>\n",
       "      <td>...</td>\n",
       "      <td>...</td>\n",
       "      <td>...</td>\n",
       "      <td>...</td>\n",
       "    </tr>\n",
       "    <tr>\n",
       "      <th>45112</th>\n",
       "      <td>72.0</td>\n",
       "      <td>지체장애</td>\n",
       "      <td>경증</td>\n",
       "      <td>강원</td>\n",
       "      <td>청소 및 기타 개인서비스직</td>\n",
       "    </tr>\n",
       "    <tr>\n",
       "      <th>45113</th>\n",
       "      <td>24.0</td>\n",
       "      <td>지체장애</td>\n",
       "      <td>경증</td>\n",
       "      <td>경기</td>\n",
       "      <td>정보통신 연구개발직 및 공학기술직</td>\n",
       "    </tr>\n",
       "    <tr>\n",
       "      <th>45114</th>\n",
       "      <td>67.0</td>\n",
       "      <td>지체장애</td>\n",
       "      <td>중증</td>\n",
       "      <td>경기</td>\n",
       "      <td>제조 단순직</td>\n",
       "    </tr>\n",
       "    <tr>\n",
       "      <th>45115</th>\n",
       "      <td>28.0</td>\n",
       "      <td>시각장애</td>\n",
       "      <td>경증</td>\n",
       "      <td>대구</td>\n",
       "      <td>경영·행정·사무직</td>\n",
       "    </tr>\n",
       "    <tr>\n",
       "      <th>45116</th>\n",
       "      <td>30.0</td>\n",
       "      <td>지체장애</td>\n",
       "      <td>중증</td>\n",
       "      <td>울산</td>\n",
       "      <td>제조 연구개발직 및 공학기술직</td>\n",
       "    </tr>\n",
       "  </tbody>\n",
       "</table>\n",
       "<p>45117 rows × 5 columns</p>\n",
       "</div>"
      ],
      "text/plain": [
       "         연령  장애유형 중증여부 근무지역             취업직종대분류\n",
       "0      26.0  정신장애   중증   경기           경영·행정·사무직\n",
       "1      28.0  지적장애   중증   충북           경영·행정·사무직\n",
       "2      19.0  지적장애   중증   충북           경영·행정·사무직\n",
       "3      22.0  지적장애   중증   충북           경영·행정·사무직\n",
       "4      23.0  지적장애   중증   충북           경영·행정·사무직\n",
       "...     ...   ...  ...  ...                 ...\n",
       "45112  72.0  지체장애   경증   강원      청소 및 기타 개인서비스직\n",
       "45113  24.0  지체장애   경증   경기  정보통신 연구개발직 및 공학기술직\n",
       "45114  67.0  지체장애   중증   경기              제조 단순직\n",
       "45115  28.0  시각장애   경증   대구           경영·행정·사무직\n",
       "45116  30.0  지체장애   중증   울산    제조 연구개발직 및 공학기술직\n",
       "\n",
       "[45117 rows x 5 columns]"
      ]
     },
     "execution_count": 9,
     "metadata": {},
     "output_type": "execute_result"
    }
   ],
   "source": [
    "ml_df"
   ]
  },
  {
   "cell_type": "markdown",
   "metadata": {},
   "source": [
    "# 연아_AUTOML"
   ]
  },
  {
   "cell_type": "code",
   "execution_count": 5,
   "metadata": {},
   "outputs": [],
   "source": [
    "#!pip install pycaret --quiet\n",
    "#!pip install shap --quiet\n",
    "#pip install --upgrade pycaret"
   ]
  },
  {
   "cell_type": "code",
   "execution_count": 21,
   "metadata": {},
   "outputs": [
    {
     "name": "stdout",
     "output_type": "stream",
     "text": [
      "['경영·행정·사무직' '청소 및 기타 개인서비스직' '돌봄 서비스직(간병·육아)' '인쇄·목재·공예 및 기타 설치·정비·생산직'\n",
      " '제조 단순직' '보건·의료직' '경호·경비직' '금융·보험직' '전기·전자 설치·정비·생산직' '운전·운송직' '사회복지·종교직'\n",
      " '식품 가공·생산직' '관리직(임원·부서장)' '화학·환경 설치·정비·생산직' '예술·디자인·방송직' '스포츠·레크리에이션직'\n",
      " '영업·판매직' '교육직' '기계 설치·정비·생산직' '제조 연구개발직 및 공학기술직' '정보통신 설치·정비직' '음식 서비스직'\n",
      " '건설·채굴직' '정보통신 연구개발직 및 공학기술직' '건설·채굴 연구개발직 및 공학기술직' '여행·숙박·오락 서비스직'\n",
      " '섬유·의복 생산직' '미용·예식 서비스직' '금속·재료 설치·정비·생산직(판금·단조·주조·용접·도장 등)' '농림어업직'\n",
      " '법률직']\n"
     ]
    }
   ],
   "source": [
    "unique_labels = ml_df['취업직종대분류'].unique()\n",
    "print(unique_labels)"
   ]
  },
  {
   "cell_type": "code",
   "execution_count": 22,
   "metadata": {},
   "outputs": [
    {
     "name": "stdout",
     "output_type": "stream",
     "text": [
      "인문·사회과학 연구직에 해당하는 값의 개수: 0\n"
     ]
    }
   ],
   "source": [
    "# '인문·사회과학 연구직'에 해당하는 값의 개수 출력\n",
    "count_unseen_label = (ml_df['취업직종대분류'] == '인문·사회과학 연구직').sum()\n",
    "print(f\"인문·사회과학 연구직에 해당하는 값의 개수: {count_unseen_label}\")"
   ]
  },
  {
   "cell_type": "code",
   "execution_count": 23,
   "metadata": {},
   "outputs": [
    {
     "name": "stdout",
     "output_type": "stream",
     "text": [
      "경영·행정·사무직                            16940\n",
      "청소 및 기타 개인서비스직                       11692\n",
      "제조 단순직                                3230\n",
      "경호·경비직                                2162\n",
      "보건·의료직                                2012\n",
      "음식 서비스직                               1562\n",
      "돌봄 서비스직(간병·육아)                         966\n",
      "인쇄·목재·공예 및 기타 설치·정비·생산직                883\n",
      "영업·판매직                                 680\n",
      "스포츠·레크리에이션직                            625\n",
      "전기·전자 설치·정비·생산직                        568\n",
      "관리직(임원·부서장)                            448\n",
      "예술·디자인·방송직                             436\n",
      "식품 가공·생산직                              416\n",
      "사회복지·종교직                               406\n",
      "운전·운송직                                 361\n",
      "기계 설치·정비·생산직                           349\n",
      "화학·환경 설치·정비·생산직                        161\n",
      "건설·채굴직                                 155\n",
      "제조 연구개발직 및 공학기술직                       150\n",
      "섬유·의복 생산직                              147\n",
      "교육직                                    145\n",
      "미용·예식 서비스직                             142\n",
      "농림어업직                                  137\n",
      "정보통신 연구개발직 및 공학기술직                     106\n",
      "금속·재료 설치·정비·생산직(판금·단조·주조·용접·도장 등)       84\n",
      "건설·채굴 연구개발직 및 공학기술직                     51\n",
      "금융·보험직                                  45\n",
      "여행·숙박·오락 서비스직                           41\n",
      "정보통신 설치·정비직                              7\n",
      "법률직                                      6\n",
      "Name: 취업직종대분류, dtype: int64\n"
     ]
    }
   ],
   "source": [
    "from sklearn.model_selection import train_test_split\n",
    "\n",
    "# 데이터 제거 (둘다 2개씩 있어서 지움)\n",
    "ml_df = ml_df[ml_df['취업직종대분류'] != '인문·사회과학 연구직']\n",
    "ml_df = ml_df[ml_df['취업직종대분류'] != '자연·생명과학 연구직']\n",
    "\n",
    "# 제거 후 데이터 확인\n",
    "print(ml_df['취업직종대분류'].value_counts())"
   ]
  },
  {
   "cell_type": "code",
   "execution_count": 25,
   "metadata": {},
   "outputs": [
    {
     "data": {
      "text/html": [
       "<style type=\"text/css\">\n",
       "#T_99eb5_row11_col1 {\n",
       "  background-color: lightgreen;\n",
       "}\n",
       "</style>\n",
       "<table id=\"T_99eb5\">\n",
       "  <thead>\n",
       "    <tr>\n",
       "      <th class=\"blank level0\" >&nbsp;</th>\n",
       "      <th id=\"T_99eb5_level0_col0\" class=\"col_heading level0 col0\" >Description</th>\n",
       "      <th id=\"T_99eb5_level0_col1\" class=\"col_heading level0 col1\" >Value</th>\n",
       "    </tr>\n",
       "  </thead>\n",
       "  <tbody>\n",
       "    <tr>\n",
       "      <th id=\"T_99eb5_level0_row0\" class=\"row_heading level0 row0\" >0</th>\n",
       "      <td id=\"T_99eb5_row0_col0\" class=\"data row0 col0\" >Session id</td>\n",
       "      <td id=\"T_99eb5_row0_col1\" class=\"data row0 col1\" >8835</td>\n",
       "    </tr>\n",
       "    <tr>\n",
       "      <th id=\"T_99eb5_level0_row1\" class=\"row_heading level0 row1\" >1</th>\n",
       "      <td id=\"T_99eb5_row1_col0\" class=\"data row1 col0\" >Target</td>\n",
       "      <td id=\"T_99eb5_row1_col1\" class=\"data row1 col1\" >취업직종대분류</td>\n",
       "    </tr>\n",
       "    <tr>\n",
       "      <th id=\"T_99eb5_level0_row2\" class=\"row_heading level0 row2\" >2</th>\n",
       "      <td id=\"T_99eb5_row2_col0\" class=\"data row2 col0\" >Target type</td>\n",
       "      <td id=\"T_99eb5_row2_col1\" class=\"data row2 col1\" >Multiclass</td>\n",
       "    </tr>\n",
       "    <tr>\n",
       "      <th id=\"T_99eb5_level0_row3\" class=\"row_heading level0 row3\" >3</th>\n",
       "      <td id=\"T_99eb5_row3_col0\" class=\"data row3 col0\" >Target mapping</td>\n",
       "      <td id=\"T_99eb5_row3_col1\" class=\"data row3 col1\" >건설·채굴 연구개발직 및 공학기술직: 0, 건설·채굴직: 1, 경영·행정·사무직: 2, 경호·경비직: 3, 관리직(임원·부서장): 4, 교육직: 5, 금속·재료 설치·정비·생산직(판금·단조·주조·용접·도장 등): 6, 금융·보험직: 7, 기계 설치·정비·생산직: 8, 농림어업직: 9, 돌봄 서비스직(간병·육아): 10, 미용·예식 서비스직: 11, 법률직: 12, 보건·의료직: 13, 사회복지·종교직: 14, 섬유·의복 생산직: 15, 스포츠·레크리에이션직: 16, 식품 가공·생산직: 17, 여행·숙박·오락 서비스직: 18, 영업·판매직: 19, 예술·디자인·방송직: 20, 운전·운송직: 21, 음식 서비스직: 22, 인쇄·목재·공예 및 기타 설치·정비·생산직: 23, 전기·전자 설치·정비·생산직: 24, 정보통신 설치·정비직: 25, 정보통신 연구개발직 및 공학기술직: 26, 제조 단순직: 27, 제조 연구개발직 및 공학기술직: 28, 청소 및 기타 개인서비스직: 29, 화학·환경 설치·정비·생산직: 30</td>\n",
       "    </tr>\n",
       "    <tr>\n",
       "      <th id=\"T_99eb5_level0_row4\" class=\"row_heading level0 row4\" >4</th>\n",
       "      <td id=\"T_99eb5_row4_col0\" class=\"data row4 col0\" >Original data shape</td>\n",
       "      <td id=\"T_99eb5_row4_col1\" class=\"data row4 col1\" >(45113, 5)</td>\n",
       "    </tr>\n",
       "    <tr>\n",
       "      <th id=\"T_99eb5_level0_row5\" class=\"row_heading level0 row5\" >5</th>\n",
       "      <td id=\"T_99eb5_row5_col0\" class=\"data row5 col0\" >Transformed data shape</td>\n",
       "      <td id=\"T_99eb5_row5_col1\" class=\"data row5 col1\" >(45113, 39)</td>\n",
       "    </tr>\n",
       "    <tr>\n",
       "      <th id=\"T_99eb5_level0_row6\" class=\"row_heading level0 row6\" >6</th>\n",
       "      <td id=\"T_99eb5_row6_col0\" class=\"data row6 col0\" >Transformed train set shape</td>\n",
       "      <td id=\"T_99eb5_row6_col1\" class=\"data row6 col1\" >(31579, 39)</td>\n",
       "    </tr>\n",
       "    <tr>\n",
       "      <th id=\"T_99eb5_level0_row7\" class=\"row_heading level0 row7\" >7</th>\n",
       "      <td id=\"T_99eb5_row7_col0\" class=\"data row7 col0\" >Transformed test set shape</td>\n",
       "      <td id=\"T_99eb5_row7_col1\" class=\"data row7 col1\" >(13534, 39)</td>\n",
       "    </tr>\n",
       "    <tr>\n",
       "      <th id=\"T_99eb5_level0_row8\" class=\"row_heading level0 row8\" >8</th>\n",
       "      <td id=\"T_99eb5_row8_col0\" class=\"data row8 col0\" >Ordinal features</td>\n",
       "      <td id=\"T_99eb5_row8_col1\" class=\"data row8 col1\" >1</td>\n",
       "    </tr>\n",
       "    <tr>\n",
       "      <th id=\"T_99eb5_level0_row9\" class=\"row_heading level0 row9\" >9</th>\n",
       "      <td id=\"T_99eb5_row9_col0\" class=\"data row9 col0\" >Numeric features</td>\n",
       "      <td id=\"T_99eb5_row9_col1\" class=\"data row9 col1\" >1</td>\n",
       "    </tr>\n",
       "    <tr>\n",
       "      <th id=\"T_99eb5_level0_row10\" class=\"row_heading level0 row10\" >10</th>\n",
       "      <td id=\"T_99eb5_row10_col0\" class=\"data row10 col0\" >Categorical features</td>\n",
       "      <td id=\"T_99eb5_row10_col1\" class=\"data row10 col1\" >3</td>\n",
       "    </tr>\n",
       "    <tr>\n",
       "      <th id=\"T_99eb5_level0_row11\" class=\"row_heading level0 row11\" >11</th>\n",
       "      <td id=\"T_99eb5_row11_col0\" class=\"data row11 col0\" >Preprocess</td>\n",
       "      <td id=\"T_99eb5_row11_col1\" class=\"data row11 col1\" >True</td>\n",
       "    </tr>\n",
       "    <tr>\n",
       "      <th id=\"T_99eb5_level0_row12\" class=\"row_heading level0 row12\" >12</th>\n",
       "      <td id=\"T_99eb5_row12_col0\" class=\"data row12 col0\" >Imputation type</td>\n",
       "      <td id=\"T_99eb5_row12_col1\" class=\"data row12 col1\" >simple</td>\n",
       "    </tr>\n",
       "    <tr>\n",
       "      <th id=\"T_99eb5_level0_row13\" class=\"row_heading level0 row13\" >13</th>\n",
       "      <td id=\"T_99eb5_row13_col0\" class=\"data row13 col0\" >Numeric imputation</td>\n",
       "      <td id=\"T_99eb5_row13_col1\" class=\"data row13 col1\" >mean</td>\n",
       "    </tr>\n",
       "    <tr>\n",
       "      <th id=\"T_99eb5_level0_row14\" class=\"row_heading level0 row14\" >14</th>\n",
       "      <td id=\"T_99eb5_row14_col0\" class=\"data row14 col0\" >Categorical imputation</td>\n",
       "      <td id=\"T_99eb5_row14_col1\" class=\"data row14 col1\" >mode</td>\n",
       "    </tr>\n",
       "    <tr>\n",
       "      <th id=\"T_99eb5_level0_row15\" class=\"row_heading level0 row15\" >15</th>\n",
       "      <td id=\"T_99eb5_row15_col0\" class=\"data row15 col0\" >Maximum one-hot encoding</td>\n",
       "      <td id=\"T_99eb5_row15_col1\" class=\"data row15 col1\" >25</td>\n",
       "    </tr>\n",
       "    <tr>\n",
       "      <th id=\"T_99eb5_level0_row16\" class=\"row_heading level0 row16\" >16</th>\n",
       "      <td id=\"T_99eb5_row16_col0\" class=\"data row16 col0\" >Encoding method</td>\n",
       "      <td id=\"T_99eb5_row16_col1\" class=\"data row16 col1\" >None</td>\n",
       "    </tr>\n",
       "    <tr>\n",
       "      <th id=\"T_99eb5_level0_row17\" class=\"row_heading level0 row17\" >17</th>\n",
       "      <td id=\"T_99eb5_row17_col0\" class=\"data row17 col0\" >Fold Generator</td>\n",
       "      <td id=\"T_99eb5_row17_col1\" class=\"data row17 col1\" >StratifiedKFold</td>\n",
       "    </tr>\n",
       "    <tr>\n",
       "      <th id=\"T_99eb5_level0_row18\" class=\"row_heading level0 row18\" >18</th>\n",
       "      <td id=\"T_99eb5_row18_col0\" class=\"data row18 col0\" >Fold Number</td>\n",
       "      <td id=\"T_99eb5_row18_col1\" class=\"data row18 col1\" >10</td>\n",
       "    </tr>\n",
       "    <tr>\n",
       "      <th id=\"T_99eb5_level0_row19\" class=\"row_heading level0 row19\" >19</th>\n",
       "      <td id=\"T_99eb5_row19_col0\" class=\"data row19 col0\" >CPU Jobs</td>\n",
       "      <td id=\"T_99eb5_row19_col1\" class=\"data row19 col1\" >-1</td>\n",
       "    </tr>\n",
       "    <tr>\n",
       "      <th id=\"T_99eb5_level0_row20\" class=\"row_heading level0 row20\" >20</th>\n",
       "      <td id=\"T_99eb5_row20_col0\" class=\"data row20 col0\" >Use GPU</td>\n",
       "      <td id=\"T_99eb5_row20_col1\" class=\"data row20 col1\" >False</td>\n",
       "    </tr>\n",
       "    <tr>\n",
       "      <th id=\"T_99eb5_level0_row21\" class=\"row_heading level0 row21\" >21</th>\n",
       "      <td id=\"T_99eb5_row21_col0\" class=\"data row21 col0\" >Log Experiment</td>\n",
       "      <td id=\"T_99eb5_row21_col1\" class=\"data row21 col1\" >False</td>\n",
       "    </tr>\n",
       "    <tr>\n",
       "      <th id=\"T_99eb5_level0_row22\" class=\"row_heading level0 row22\" >22</th>\n",
       "      <td id=\"T_99eb5_row22_col0\" class=\"data row22 col0\" >Experiment Name</td>\n",
       "      <td id=\"T_99eb5_row22_col1\" class=\"data row22 col1\" >clf-default-name</td>\n",
       "    </tr>\n",
       "    <tr>\n",
       "      <th id=\"T_99eb5_level0_row23\" class=\"row_heading level0 row23\" >23</th>\n",
       "      <td id=\"T_99eb5_row23_col0\" class=\"data row23 col0\" >USI</td>\n",
       "      <td id=\"T_99eb5_row23_col1\" class=\"data row23 col1\" >d101</td>\n",
       "    </tr>\n",
       "  </tbody>\n",
       "</table>\n"
      ],
      "text/plain": [
       "<pandas.io.formats.style.Styler at 0x282149890>"
      ]
     },
     "metadata": {},
     "output_type": "display_data"
    },
    {
     "data": {
      "text/html": [],
      "text/plain": [
       "<IPython.core.display.HTML object>"
      ]
     },
     "metadata": {},
     "output_type": "display_data"
    },
    {
     "data": {
      "text/html": [
       "<style type=\"text/css\">\n",
       "#T_886bc_row5_col0, #T_886bc_row5_col1, #T_886bc_row5_col2, #T_886bc_row5_col3, #T_886bc_row5_col4, #T_886bc_row5_col5, #T_886bc_row5_col6 {\n",
       "  background: yellow;\n",
       "}\n",
       "</style>\n",
       "<table id=\"T_886bc\">\n",
       "  <thead>\n",
       "    <tr>\n",
       "      <th class=\"blank level0\" >&nbsp;</th>\n",
       "      <th id=\"T_886bc_level0_col0\" class=\"col_heading level0 col0\" >Accuracy</th>\n",
       "      <th id=\"T_886bc_level0_col1\" class=\"col_heading level0 col1\" >AUC</th>\n",
       "      <th id=\"T_886bc_level0_col2\" class=\"col_heading level0 col2\" >Recall</th>\n",
       "      <th id=\"T_886bc_level0_col3\" class=\"col_heading level0 col3\" >Prec.</th>\n",
       "      <th id=\"T_886bc_level0_col4\" class=\"col_heading level0 col4\" >F1</th>\n",
       "      <th id=\"T_886bc_level0_col5\" class=\"col_heading level0 col5\" >Kappa</th>\n",
       "      <th id=\"T_886bc_level0_col6\" class=\"col_heading level0 col6\" >MCC</th>\n",
       "    </tr>\n",
       "    <tr>\n",
       "      <th class=\"index_name level0\" >Fold</th>\n",
       "      <th class=\"blank col0\" >&nbsp;</th>\n",
       "      <th class=\"blank col1\" >&nbsp;</th>\n",
       "      <th class=\"blank col2\" >&nbsp;</th>\n",
       "      <th class=\"blank col3\" >&nbsp;</th>\n",
       "      <th class=\"blank col4\" >&nbsp;</th>\n",
       "      <th class=\"blank col5\" >&nbsp;</th>\n",
       "      <th class=\"blank col6\" >&nbsp;</th>\n",
       "    </tr>\n",
       "  </thead>\n",
       "  <tbody>\n",
       "    <tr>\n",
       "      <th id=\"T_886bc_level0_row0\" class=\"row_heading level0 row0\" >0</th>\n",
       "      <td id=\"T_886bc_row0_col0\" class=\"data row0 col0\" >0.4033</td>\n",
       "      <td id=\"T_886bc_row0_col1\" class=\"data row0 col1\" >0.6764</td>\n",
       "      <td id=\"T_886bc_row0_col2\" class=\"data row0 col2\" >0.4033</td>\n",
       "      <td id=\"T_886bc_row0_col3\" class=\"data row0 col3\" >0.3495</td>\n",
       "      <td id=\"T_886bc_row0_col4\" class=\"data row0 col4\" >0.3688</td>\n",
       "      <td id=\"T_886bc_row0_col5\" class=\"data row0 col5\" >0.1791</td>\n",
       "      <td id=\"T_886bc_row0_col6\" class=\"data row0 col6\" >0.1820</td>\n",
       "    </tr>\n",
       "    <tr>\n",
       "      <th id=\"T_886bc_level0_row1\" class=\"row_heading level0 row1\" >1</th>\n",
       "      <td id=\"T_886bc_row1_col0\" class=\"data row1 col0\" >0.4064</td>\n",
       "      <td id=\"T_886bc_row1_col1\" class=\"data row1 col1\" >0.6735</td>\n",
       "      <td id=\"T_886bc_row1_col2\" class=\"data row1 col2\" >0.4064</td>\n",
       "      <td id=\"T_886bc_row1_col3\" class=\"data row1 col3\" >0.3499</td>\n",
       "      <td id=\"T_886bc_row1_col4\" class=\"data row1 col4\" >0.3699</td>\n",
       "      <td id=\"T_886bc_row1_col5\" class=\"data row1 col5\" >0.1811</td>\n",
       "      <td id=\"T_886bc_row1_col6\" class=\"data row1 col6\" >0.1844</td>\n",
       "    </tr>\n",
       "    <tr>\n",
       "      <th id=\"T_886bc_level0_row2\" class=\"row_heading level0 row2\" >2</th>\n",
       "      <td id=\"T_886bc_row2_col0\" class=\"data row2 col0\" >0.4162</td>\n",
       "      <td id=\"T_886bc_row2_col1\" class=\"data row2 col1\" >0.0000</td>\n",
       "      <td id=\"T_886bc_row2_col2\" class=\"data row2 col2\" >0.4162</td>\n",
       "      <td id=\"T_886bc_row2_col3\" class=\"data row2 col3\" >0.3575</td>\n",
       "      <td id=\"T_886bc_row2_col4\" class=\"data row2 col4\" >0.3784</td>\n",
       "      <td id=\"T_886bc_row2_col5\" class=\"data row2 col5\" >0.1963</td>\n",
       "      <td id=\"T_886bc_row2_col6\" class=\"data row2 col6\" >0.1997</td>\n",
       "    </tr>\n",
       "    <tr>\n",
       "      <th id=\"T_886bc_level0_row3\" class=\"row_heading level0 row3\" >3</th>\n",
       "      <td id=\"T_886bc_row3_col0\" class=\"data row3 col0\" >0.4164</td>\n",
       "      <td id=\"T_886bc_row3_col1\" class=\"data row3 col1\" >0.6825</td>\n",
       "      <td id=\"T_886bc_row3_col2\" class=\"data row3 col2\" >0.4164</td>\n",
       "      <td id=\"T_886bc_row3_col3\" class=\"data row3 col3\" >0.3640</td>\n",
       "      <td id=\"T_886bc_row3_col4\" class=\"data row3 col4\" >0.3826</td>\n",
       "      <td id=\"T_886bc_row3_col5\" class=\"data row3 col5\" >0.2003</td>\n",
       "      <td id=\"T_886bc_row3_col6\" class=\"data row3 col6\" >0.2032</td>\n",
       "    </tr>\n",
       "    <tr>\n",
       "      <th id=\"T_886bc_level0_row4\" class=\"row_heading level0 row4\" >4</th>\n",
       "      <td id=\"T_886bc_row4_col0\" class=\"data row4 col0\" >0.4059</td>\n",
       "      <td id=\"T_886bc_row4_col1\" class=\"data row4 col1\" >0.6776</td>\n",
       "      <td id=\"T_886bc_row4_col2\" class=\"data row4 col2\" >0.4059</td>\n",
       "      <td id=\"T_886bc_row4_col3\" class=\"data row4 col3\" >0.3515</td>\n",
       "      <td id=\"T_886bc_row4_col4\" class=\"data row4 col4\" >0.3716</td>\n",
       "      <td id=\"T_886bc_row4_col5\" class=\"data row4 col5\" >0.1836</td>\n",
       "      <td id=\"T_886bc_row4_col6\" class=\"data row4 col6\" >0.1866</td>\n",
       "    </tr>\n",
       "    <tr>\n",
       "      <th id=\"T_886bc_level0_row5\" class=\"row_heading level0 row5\" >Mean</th>\n",
       "      <td id=\"T_886bc_row5_col0\" class=\"data row5 col0\" >0.4096</td>\n",
       "      <td id=\"T_886bc_row5_col1\" class=\"data row5 col1\" >0.5420</td>\n",
       "      <td id=\"T_886bc_row5_col2\" class=\"data row5 col2\" >0.4096</td>\n",
       "      <td id=\"T_886bc_row5_col3\" class=\"data row5 col3\" >0.3545</td>\n",
       "      <td id=\"T_886bc_row5_col4\" class=\"data row5 col4\" >0.3743</td>\n",
       "      <td id=\"T_886bc_row5_col5\" class=\"data row5 col5\" >0.1881</td>\n",
       "      <td id=\"T_886bc_row5_col6\" class=\"data row5 col6\" >0.1912</td>\n",
       "    </tr>\n",
       "    <tr>\n",
       "      <th id=\"T_886bc_level0_row6\" class=\"row_heading level0 row6\" >Std</th>\n",
       "      <td id=\"T_886bc_row6_col0\" class=\"data row6 col0\" >0.0056</td>\n",
       "      <td id=\"T_886bc_row6_col1\" class=\"data row6 col1\" >0.2710</td>\n",
       "      <td id=\"T_886bc_row6_col2\" class=\"data row6 col2\" >0.0056</td>\n",
       "      <td id=\"T_886bc_row6_col3\" class=\"data row6 col3\" >0.0056</td>\n",
       "      <td id=\"T_886bc_row6_col4\" class=\"data row6 col4\" >0.0053</td>\n",
       "      <td id=\"T_886bc_row6_col5\" class=\"data row6 col5\" >0.0086</td>\n",
       "      <td id=\"T_886bc_row6_col6\" class=\"data row6 col6\" >0.0086</td>\n",
       "    </tr>\n",
       "  </tbody>\n",
       "</table>\n"
      ],
      "text/plain": [
       "<pandas.io.formats.style.Styler at 0x284151a90>"
      ]
     },
     "metadata": {},
     "output_type": "display_data"
    },
    {
     "data": {
      "text/html": [],
      "text/plain": [
       "<IPython.core.display.HTML object>"
      ]
     },
     "metadata": {},
     "output_type": "display_data"
    }
   ],
   "source": [
    "from pycaret.classification import *\n",
    "\n",
    "# PyCaret에서 사용할 데이터셋 로드\n",
    "exp1 = setup(data=ml_df, target='취업직종대분류')\n",
    "\n",
    "# '인문·사회과학 연구직' 레이블을 가진 데이터 제거\n",
    "ml_df = ml_df[ml_df['취업직종대분류'] != '인문·사회과학 연구직']\n",
    "\n",
    "# 모델 생성\n",
    "rf = create_model('rf', fold=5)"
   ]
  },
  {
   "cell_type": "code",
   "execution_count": 26,
   "metadata": {},
   "outputs": [
    {
     "data": {
      "text/html": [],
      "text/plain": [
       "<IPython.core.display.HTML object>"
      ]
     },
     "metadata": {},
     "output_type": "display_data"
    },
    {
     "data": {
      "text/html": [
       "<style type=\"text/css\">\n",
       "#T_c9427 th {\n",
       "  text-align: left;\n",
       "}\n",
       "#T_c9427_row0_col0, #T_c9427_row1_col0, #T_c9427_row1_col1, #T_c9427_row1_col2, #T_c9427_row1_col3, #T_c9427_row1_col4, #T_c9427_row1_col5, #T_c9427_row1_col6, #T_c9427_row1_col7, #T_c9427_row2_col0, #T_c9427_row2_col1, #T_c9427_row2_col2, #T_c9427_row2_col3, #T_c9427_row2_col4, #T_c9427_row2_col5, #T_c9427_row2_col6, #T_c9427_row2_col7, #T_c9427_row3_col0, #T_c9427_row3_col1, #T_c9427_row3_col2, #T_c9427_row3_col3, #T_c9427_row3_col4, #T_c9427_row3_col5, #T_c9427_row3_col6, #T_c9427_row3_col7, #T_c9427_row4_col0, #T_c9427_row4_col1, #T_c9427_row4_col2, #T_c9427_row4_col3, #T_c9427_row4_col4, #T_c9427_row4_col5, #T_c9427_row4_col6, #T_c9427_row4_col7, #T_c9427_row5_col0, #T_c9427_row5_col1, #T_c9427_row5_col2, #T_c9427_row5_col3, #T_c9427_row5_col4, #T_c9427_row5_col5, #T_c9427_row5_col6, #T_c9427_row5_col7, #T_c9427_row6_col0, #T_c9427_row6_col1, #T_c9427_row6_col2, #T_c9427_row6_col3, #T_c9427_row6_col4, #T_c9427_row6_col5, #T_c9427_row6_col6, #T_c9427_row6_col7, #T_c9427_row7_col0, #T_c9427_row7_col1, #T_c9427_row7_col2, #T_c9427_row7_col3, #T_c9427_row7_col4, #T_c9427_row7_col5, #T_c9427_row7_col6, #T_c9427_row7_col7, #T_c9427_row8_col0, #T_c9427_row8_col1, #T_c9427_row8_col2, #T_c9427_row8_col3, #T_c9427_row8_col4, #T_c9427_row8_col5, #T_c9427_row8_col6, #T_c9427_row8_col7, #T_c9427_row9_col0, #T_c9427_row9_col1, #T_c9427_row9_col2, #T_c9427_row9_col3, #T_c9427_row9_col4, #T_c9427_row9_col5, #T_c9427_row9_col6, #T_c9427_row9_col7, #T_c9427_row10_col0, #T_c9427_row10_col1, #T_c9427_row10_col2, #T_c9427_row10_col3, #T_c9427_row10_col4, #T_c9427_row10_col5, #T_c9427_row10_col6, #T_c9427_row10_col7, #T_c9427_row11_col0, #T_c9427_row11_col1, #T_c9427_row11_col2, #T_c9427_row11_col3, #T_c9427_row11_col4, #T_c9427_row11_col5, #T_c9427_row11_col6, #T_c9427_row11_col7, #T_c9427_row12_col0, #T_c9427_row12_col1, #T_c9427_row12_col2, #T_c9427_row12_col3, #T_c9427_row12_col4, #T_c9427_row12_col5, #T_c9427_row12_col6, #T_c9427_row12_col7, #T_c9427_row13_col0, #T_c9427_row13_col1, #T_c9427_row13_col2, #T_c9427_row13_col3, #T_c9427_row13_col4, #T_c9427_row13_col5, #T_c9427_row13_col6, #T_c9427_row13_col7 {\n",
       "  text-align: left;\n",
       "}\n",
       "#T_c9427_row0_col1, #T_c9427_row0_col2, #T_c9427_row0_col3, #T_c9427_row0_col4, #T_c9427_row0_col5, #T_c9427_row0_col6, #T_c9427_row0_col7 {\n",
       "  text-align: left;\n",
       "  background-color: yellow;\n",
       "}\n",
       "#T_c9427_row0_col8, #T_c9427_row1_col8, #T_c9427_row2_col8, #T_c9427_row3_col8, #T_c9427_row4_col8, #T_c9427_row5_col8, #T_c9427_row6_col8, #T_c9427_row7_col8, #T_c9427_row9_col8, #T_c9427_row10_col8, #T_c9427_row11_col8, #T_c9427_row12_col8, #T_c9427_row13_col8 {\n",
       "  text-align: left;\n",
       "  background-color: lightgrey;\n",
       "}\n",
       "#T_c9427_row8_col8 {\n",
       "  text-align: left;\n",
       "  background-color: yellow;\n",
       "  background-color: lightgrey;\n",
       "}\n",
       "</style>\n",
       "<table id=\"T_c9427\">\n",
       "  <thead>\n",
       "    <tr>\n",
       "      <th class=\"blank level0\" >&nbsp;</th>\n",
       "      <th id=\"T_c9427_level0_col0\" class=\"col_heading level0 col0\" >Model</th>\n",
       "      <th id=\"T_c9427_level0_col1\" class=\"col_heading level0 col1\" >Accuracy</th>\n",
       "      <th id=\"T_c9427_level0_col2\" class=\"col_heading level0 col2\" >AUC</th>\n",
       "      <th id=\"T_c9427_level0_col3\" class=\"col_heading level0 col3\" >Recall</th>\n",
       "      <th id=\"T_c9427_level0_col4\" class=\"col_heading level0 col4\" >Prec.</th>\n",
       "      <th id=\"T_c9427_level0_col5\" class=\"col_heading level0 col5\" >F1</th>\n",
       "      <th id=\"T_c9427_level0_col6\" class=\"col_heading level0 col6\" >Kappa</th>\n",
       "      <th id=\"T_c9427_level0_col7\" class=\"col_heading level0 col7\" >MCC</th>\n",
       "      <th id=\"T_c9427_level0_col8\" class=\"col_heading level0 col8\" >TT (Sec)</th>\n",
       "    </tr>\n",
       "  </thead>\n",
       "  <tbody>\n",
       "    <tr>\n",
       "      <th id=\"T_c9427_level0_row0\" class=\"row_heading level0 row0\" >gbc</th>\n",
       "      <td id=\"T_c9427_row0_col0\" class=\"data row0 col0\" >Gradient Boosting Classifier</td>\n",
       "      <td id=\"T_c9427_row0_col1\" class=\"data row0 col1\" >0.4723</td>\n",
       "      <td id=\"T_c9427_row0_col2\" class=\"data row0 col2\" >0.6002</td>\n",
       "      <td id=\"T_c9427_row0_col3\" class=\"data row0 col3\" >0.4723</td>\n",
       "      <td id=\"T_c9427_row0_col4\" class=\"data row0 col4\" >0.3977</td>\n",
       "      <td id=\"T_c9427_row0_col5\" class=\"data row0 col5\" >0.3964</td>\n",
       "      <td id=\"T_c9427_row0_col6\" class=\"data row0 col6\" >0.2270</td>\n",
       "      <td id=\"T_c9427_row0_col7\" class=\"data row0 col7\" >0.2458</td>\n",
       "      <td id=\"T_c9427_row0_col8\" class=\"data row0 col8\" >40.8900</td>\n",
       "    </tr>\n",
       "    <tr>\n",
       "      <th id=\"T_c9427_level0_row1\" class=\"row_heading level0 row1\" >lr</th>\n",
       "      <td id=\"T_c9427_row1_col0\" class=\"data row1 col0\" >Logistic Regression</td>\n",
       "      <td id=\"T_c9427_row1_col1\" class=\"data row1 col1\" >0.4661</td>\n",
       "      <td id=\"T_c9427_row1_col2\" class=\"data row1 col2\" >0.5883</td>\n",
       "      <td id=\"T_c9427_row1_col3\" class=\"data row1 col3\" >0.4661</td>\n",
       "      <td id=\"T_c9427_row1_col4\" class=\"data row1 col4\" >0.3621</td>\n",
       "      <td id=\"T_c9427_row1_col5\" class=\"data row1 col5\" >0.3859</td>\n",
       "      <td id=\"T_c9427_row1_col6\" class=\"data row1 col6\" >0.2155</td>\n",
       "      <td id=\"T_c9427_row1_col7\" class=\"data row1 col7\" >0.2334</td>\n",
       "      <td id=\"T_c9427_row1_col8\" class=\"data row1 col8\" >10.6000</td>\n",
       "    </tr>\n",
       "    <tr>\n",
       "      <th id=\"T_c9427_level0_row2\" class=\"row_heading level0 row2\" >ridge</th>\n",
       "      <td id=\"T_c9427_row2_col0\" class=\"data row2 col0\" >Ridge Classifier</td>\n",
       "      <td id=\"T_c9427_row2_col1\" class=\"data row2 col1\" >0.4550</td>\n",
       "      <td id=\"T_c9427_row2_col2\" class=\"data row2 col2\" >0.0000</td>\n",
       "      <td id=\"T_c9427_row2_col3\" class=\"data row2 col3\" >0.4550</td>\n",
       "      <td id=\"T_c9427_row2_col4\" class=\"data row2 col4\" >0.3321</td>\n",
       "      <td id=\"T_c9427_row2_col5\" class=\"data row2 col5\" >0.3664</td>\n",
       "      <td id=\"T_c9427_row2_col6\" class=\"data row2 col6\" >0.1912</td>\n",
       "      <td id=\"T_c9427_row2_col7\" class=\"data row2 col7\" >0.2097</td>\n",
       "      <td id=\"T_c9427_row2_col8\" class=\"data row2 col8\" >0.1780</td>\n",
       "    </tr>\n",
       "    <tr>\n",
       "      <th id=\"T_c9427_level0_row3\" class=\"row_heading level0 row3\" >et</th>\n",
       "      <td id=\"T_c9427_row3_col0\" class=\"data row3 col0\" >Extra Trees Classifier</td>\n",
       "      <td id=\"T_c9427_row3_col1\" class=\"data row3 col1\" >0.4132</td>\n",
       "      <td id=\"T_c9427_row3_col2\" class=\"data row3 col2\" >0.5274</td>\n",
       "      <td id=\"T_c9427_row3_col3\" class=\"data row3 col3\" >0.4132</td>\n",
       "      <td id=\"T_c9427_row3_col4\" class=\"data row3 col4\" >0.3547</td>\n",
       "      <td id=\"T_c9427_row3_col5\" class=\"data row3 col5\" >0.3737</td>\n",
       "      <td id=\"T_c9427_row3_col6\" class=\"data row3 col6\" >0.1848</td>\n",
       "      <td id=\"T_c9427_row3_col7\" class=\"data row3 col7\" >0.1895</td>\n",
       "      <td id=\"T_c9427_row3_col8\" class=\"data row3 col8\" >1.1860</td>\n",
       "    </tr>\n",
       "    <tr>\n",
       "      <th id=\"T_c9427_level0_row4\" class=\"row_heading level0 row4\" >knn</th>\n",
       "      <td id=\"T_c9427_row4_col0\" class=\"data row4 col0\" >K Neighbors Classifier</td>\n",
       "      <td id=\"T_c9427_row4_col1\" class=\"data row4 col1\" >0.4110</td>\n",
       "      <td id=\"T_c9427_row4_col2\" class=\"data row4 col2\" >0.5090</td>\n",
       "      <td id=\"T_c9427_row4_col3\" class=\"data row4 col3\" >0.4110</td>\n",
       "      <td id=\"T_c9427_row4_col4\" class=\"data row4 col4\" >0.3488</td>\n",
       "      <td id=\"T_c9427_row4_col5\" class=\"data row4 col5\" >0.3647</td>\n",
       "      <td id=\"T_c9427_row4_col6\" class=\"data row4 col6\" >0.1730</td>\n",
       "      <td id=\"T_c9427_row4_col7\" class=\"data row4 col7\" >0.1803</td>\n",
       "      <td id=\"T_c9427_row4_col8\" class=\"data row4 col8\" >1.0580</td>\n",
       "    </tr>\n",
       "    <tr>\n",
       "      <th id=\"T_c9427_level0_row5\" class=\"row_heading level0 row5\" >dt</th>\n",
       "      <td id=\"T_c9427_row5_col0\" class=\"data row5 col0\" >Decision Tree Classifier</td>\n",
       "      <td id=\"T_c9427_row5_col1\" class=\"data row5 col1\" >0.4107</td>\n",
       "      <td id=\"T_c9427_row5_col2\" class=\"data row5 col2\" >0.5226</td>\n",
       "      <td id=\"T_c9427_row5_col3\" class=\"data row5 col3\" >0.4107</td>\n",
       "      <td id=\"T_c9427_row5_col4\" class=\"data row5 col4\" >0.3533</td>\n",
       "      <td id=\"T_c9427_row5_col5\" class=\"data row5 col5\" >0.3721</td>\n",
       "      <td id=\"T_c9427_row5_col6\" class=\"data row5 col6\" >0.1824</td>\n",
       "      <td id=\"T_c9427_row5_col7\" class=\"data row5 col7\" >0.1870</td>\n",
       "      <td id=\"T_c9427_row5_col8\" class=\"data row5 col8\" >0.1760</td>\n",
       "    </tr>\n",
       "    <tr>\n",
       "      <th id=\"T_c9427_level0_row6\" class=\"row_heading level0 row6\" >rf</th>\n",
       "      <td id=\"T_c9427_row6_col0\" class=\"data row6 col0\" >Random Forest Classifier</td>\n",
       "      <td id=\"T_c9427_row6_col1\" class=\"data row6 col1\" >0.4096</td>\n",
       "      <td id=\"T_c9427_row6_col2\" class=\"data row6 col2\" >0.5420</td>\n",
       "      <td id=\"T_c9427_row6_col3\" class=\"data row6 col3\" >0.4096</td>\n",
       "      <td id=\"T_c9427_row6_col4\" class=\"data row6 col4\" >0.3545</td>\n",
       "      <td id=\"T_c9427_row6_col5\" class=\"data row6 col5\" >0.3743</td>\n",
       "      <td id=\"T_c9427_row6_col6\" class=\"data row6 col6\" >0.1881</td>\n",
       "      <td id=\"T_c9427_row6_col7\" class=\"data row6 col7\" >0.1912</td>\n",
       "      <td id=\"T_c9427_row6_col8\" class=\"data row6 col8\" >1.0660</td>\n",
       "    </tr>\n",
       "    <tr>\n",
       "      <th id=\"T_c9427_level0_row7\" class=\"row_heading level0 row7\" >lda</th>\n",
       "      <td id=\"T_c9427_row7_col0\" class=\"data row7 col0\" >Linear Discriminant Analysis</td>\n",
       "      <td id=\"T_c9427_row7_col1\" class=\"data row7 col1\" >0.3917</td>\n",
       "      <td id=\"T_c9427_row7_col2\" class=\"data row7 col2\" >0.5624</td>\n",
       "      <td id=\"T_c9427_row7_col3\" class=\"data row7 col3\" >0.3917</td>\n",
       "      <td id=\"T_c9427_row7_col4\" class=\"data row7 col4\" >0.3655</td>\n",
       "      <td id=\"T_c9427_row7_col5\" class=\"data row7 col5\" >0.3569</td>\n",
       "      <td id=\"T_c9427_row7_col6\" class=\"data row7 col6\" >0.1873</td>\n",
       "      <td id=\"T_c9427_row7_col7\" class=\"data row7 col7\" >0.1903</td>\n",
       "      <td id=\"T_c9427_row7_col8\" class=\"data row7 col8\" >0.2320</td>\n",
       "    </tr>\n",
       "    <tr>\n",
       "      <th id=\"T_c9427_level0_row8\" class=\"row_heading level0 row8\" >dummy</th>\n",
       "      <td id=\"T_c9427_row8_col0\" class=\"data row8 col0\" >Dummy Classifier</td>\n",
       "      <td id=\"T_c9427_row8_col1\" class=\"data row8 col1\" >0.3755</td>\n",
       "      <td id=\"T_c9427_row8_col2\" class=\"data row8 col2\" >0.4000</td>\n",
       "      <td id=\"T_c9427_row8_col3\" class=\"data row8 col3\" >0.3755</td>\n",
       "      <td id=\"T_c9427_row8_col4\" class=\"data row8 col4\" >0.1410</td>\n",
       "      <td id=\"T_c9427_row8_col5\" class=\"data row8 col5\" >0.2050</td>\n",
       "      <td id=\"T_c9427_row8_col6\" class=\"data row8 col6\" >0.0000</td>\n",
       "      <td id=\"T_c9427_row8_col7\" class=\"data row8 col7\" >0.0000</td>\n",
       "      <td id=\"T_c9427_row8_col8\" class=\"data row8 col8\" >0.1460</td>\n",
       "    </tr>\n",
       "    <tr>\n",
       "      <th id=\"T_c9427_level0_row9\" class=\"row_heading level0 row9\" >ada</th>\n",
       "      <td id=\"T_c9427_row9_col0\" class=\"data row9 col0\" >Ada Boost Classifier</td>\n",
       "      <td id=\"T_c9427_row9_col1\" class=\"data row9 col1\" >0.3741</td>\n",
       "      <td id=\"T_c9427_row9_col2\" class=\"data row9 col2\" >0.4446</td>\n",
       "      <td id=\"T_c9427_row9_col3\" class=\"data row9 col3\" >0.3741</td>\n",
       "      <td id=\"T_c9427_row9_col4\" class=\"data row9 col4\" >0.2828</td>\n",
       "      <td id=\"T_c9427_row9_col5\" class=\"data row9 col5\" >0.2955</td>\n",
       "      <td id=\"T_c9427_row9_col6\" class=\"data row9 col6\" >0.0858</td>\n",
       "      <td id=\"T_c9427_row9_col7\" class=\"data row9 col7\" >0.1001</td>\n",
       "      <td id=\"T_c9427_row9_col8\" class=\"data row9 col8\" >1.1580</td>\n",
       "    </tr>\n",
       "    <tr>\n",
       "      <th id=\"T_c9427_level0_row10\" class=\"row_heading level0 row10\" >svm</th>\n",
       "      <td id=\"T_c9427_row10_col0\" class=\"data row10 col0\" >SVM - Linear Kernel</td>\n",
       "      <td id=\"T_c9427_row10_col1\" class=\"data row10 col1\" >0.2873</td>\n",
       "      <td id=\"T_c9427_row10_col2\" class=\"data row10 col2\" >0.0000</td>\n",
       "      <td id=\"T_c9427_row10_col3\" class=\"data row10 col3\" >0.2873</td>\n",
       "      <td id=\"T_c9427_row10_col4\" class=\"data row10 col4\" >0.3663</td>\n",
       "      <td id=\"T_c9427_row10_col5\" class=\"data row10 col5\" >0.2286</td>\n",
       "      <td id=\"T_c9427_row10_col6\" class=\"data row10 col6\" >0.1166</td>\n",
       "      <td id=\"T_c9427_row10_col7\" class=\"data row10 col7\" >0.1418</td>\n",
       "      <td id=\"T_c9427_row10_col8\" class=\"data row10 col8\" >3.4180</td>\n",
       "    </tr>\n",
       "    <tr>\n",
       "      <th id=\"T_c9427_level0_row11\" class=\"row_heading level0 row11\" >lightgbm</th>\n",
       "      <td id=\"T_c9427_row11_col0\" class=\"data row11 col0\" >Light Gradient Boosting Machine</td>\n",
       "      <td id=\"T_c9427_row11_col1\" class=\"data row11 col1\" >0.2550</td>\n",
       "      <td id=\"T_c9427_row11_col2\" class=\"data row11 col2\" >0.4183</td>\n",
       "      <td id=\"T_c9427_row11_col3\" class=\"data row11 col3\" >0.2550</td>\n",
       "      <td id=\"T_c9427_row11_col4\" class=\"data row11 col4\" >0.2443</td>\n",
       "      <td id=\"T_c9427_row11_col5\" class=\"data row11 col5\" >0.2296</td>\n",
       "      <td id=\"T_c9427_row11_col6\" class=\"data row11 col6\" >0.0297</td>\n",
       "      <td id=\"T_c9427_row11_col7\" class=\"data row11 col7\" >0.0310</td>\n",
       "      <td id=\"T_c9427_row11_col8\" class=\"data row11 col8\" >8.2000</td>\n",
       "    </tr>\n",
       "    <tr>\n",
       "      <th id=\"T_c9427_level0_row12\" class=\"row_heading level0 row12\" >qda</th>\n",
       "      <td id=\"T_c9427_row12_col0\" class=\"data row12 col0\" >Quadratic Discriminant Analysis</td>\n",
       "      <td id=\"T_c9427_row12_col1\" class=\"data row12 col1\" >0.0056</td>\n",
       "      <td id=\"T_c9427_row12_col2\" class=\"data row12 col2\" >0.4496</td>\n",
       "      <td id=\"T_c9427_row12_col3\" class=\"data row12 col3\" >0.0056</td>\n",
       "      <td id=\"T_c9427_row12_col4\" class=\"data row12 col4\" >0.0758</td>\n",
       "      <td id=\"T_c9427_row12_col5\" class=\"data row12 col5\" >0.0004</td>\n",
       "      <td id=\"T_c9427_row12_col6\" class=\"data row12 col6\" >0.0028</td>\n",
       "      <td id=\"T_c9427_row12_col7\" class=\"data row12 col7\" >0.0038</td>\n",
       "      <td id=\"T_c9427_row12_col8\" class=\"data row12 col8\" >0.3340</td>\n",
       "    </tr>\n",
       "    <tr>\n",
       "      <th id=\"T_c9427_level0_row13\" class=\"row_heading level0 row13\" >nb</th>\n",
       "      <td id=\"T_c9427_row13_col0\" class=\"data row13 col0\" >Naive Bayes</td>\n",
       "      <td id=\"T_c9427_row13_col1\" class=\"data row13 col1\" >0.0042</td>\n",
       "      <td id=\"T_c9427_row13_col2\" class=\"data row13 col2\" >0.4429</td>\n",
       "      <td id=\"T_c9427_row13_col3\" class=\"data row13 col3\" >0.0042</td>\n",
       "      <td id=\"T_c9427_row13_col4\" class=\"data row13 col4\" >0.0520</td>\n",
       "      <td id=\"T_c9427_row13_col5\" class=\"data row13 col5\" >0.0013</td>\n",
       "      <td id=\"T_c9427_row13_col6\" class=\"data row13 col6\" >0.0027</td>\n",
       "      <td id=\"T_c9427_row13_col7\" class=\"data row13 col7\" >0.0033</td>\n",
       "      <td id=\"T_c9427_row13_col8\" class=\"data row13 col8\" >0.2460</td>\n",
       "    </tr>\n",
       "  </tbody>\n",
       "</table>\n"
      ],
      "text/plain": [
       "<pandas.io.formats.style.Styler at 0x290ee54d0>"
      ]
     },
     "metadata": {},
     "output_type": "display_data"
    },
    {
     "data": {
      "text/html": [],
      "text/plain": [
       "<IPython.core.display.HTML object>"
      ]
     },
     "metadata": {},
     "output_type": "display_data"
    }
   ],
   "source": [
    "top3 = compare_models(sort='Accuracy', n_select=3, fold=5)"
   ]
  },
  {
   "cell_type": "code",
   "execution_count": 27,
   "metadata": {},
   "outputs": [
    {
     "data": {
      "text/html": [
       "<div>\n",
       "<style scoped>\n",
       "    .dataframe tbody tr th:only-of-type {\n",
       "        vertical-align: middle;\n",
       "    }\n",
       "\n",
       "    .dataframe tbody tr th {\n",
       "        vertical-align: top;\n",
       "    }\n",
       "\n",
       "    .dataframe thead th {\n",
       "        text-align: right;\n",
       "    }\n",
       "</style>\n",
       "<table border=\"1\" class=\"dataframe\">\n",
       "  <thead>\n",
       "    <tr style=\"text-align: right;\">\n",
       "      <th></th>\n",
       "      <th></th>\n",
       "      <th></th>\n",
       "    </tr>\n",
       "    <tr>\n",
       "      <th></th>\n",
       "      <th></th>\n",
       "      <th></th>\n",
       "    </tr>\n",
       "  </thead>\n",
       "  <tbody>\n",
       "    <tr>\n",
       "      <th>Initiated</th>\n",
       "      <td>. . . . . . . . . . . . . . . . . .</td>\n",
       "      <td>20:39:54</td>\n",
       "    </tr>\n",
       "    <tr>\n",
       "      <th>Status</th>\n",
       "      <td>. . . . . . . . . . . . . . . . . .</td>\n",
       "      <td>Searching Hyperparameters</td>\n",
       "    </tr>\n",
       "    <tr>\n",
       "      <th>Estimator</th>\n",
       "      <td>. . . . . . . . . . . . . . . . . .</td>\n",
       "      <td>Gradient Boosting Classifier</td>\n",
       "    </tr>\n",
       "  </tbody>\n",
       "</table>\n",
       "</div>"
      ],
      "text/plain": [
       "                                                                            \n",
       "                                                                            \n",
       "Initiated  . . . . . . . . . . . . . . . . . .                      20:39:54\n",
       "Status     . . . . . . . . . . . . . . . . . .     Searching Hyperparameters\n",
       "Estimator  . . . . . . . . . . . . . . . . . .  Gradient Boosting Classifier"
      ]
     },
     "metadata": {},
     "output_type": "display_data"
    },
    {
     "data": {
      "text/html": [],
      "text/plain": [
       "<IPython.core.display.HTML object>"
      ]
     },
     "metadata": {},
     "output_type": "display_data"
    },
    {
     "data": {
      "application/vnd.jupyter.widget-view+json": {
       "model_id": "ff34dc3a49924bba9a232caa6d3b7aba",
       "version_major": 2,
       "version_minor": 0
      },
      "text/plain": [
       "Processing:   0%|          | 0/7 [00:00<?, ?it/s]"
      ]
     },
     "metadata": {},
     "output_type": "display_data"
    },
    {
     "name": "stdout",
     "output_type": "stream",
     "text": [
      "Fitting 10 folds for each of 10 candidates, totalling 100 fits\n"
     ]
    },
    {
     "ename": "KeyboardInterrupt",
     "evalue": "",
     "output_type": "error",
     "traceback": [
      "\u001b[0;31m---------------------------------------------------------------------------\u001b[0m",
      "\u001b[0;31mKeyboardInterrupt\u001b[0m                         Traceback (most recent call last)",
      "Cell \u001b[0;32mIn[27], line 2\u001b[0m\n\u001b[1;32m      1\u001b[0m \u001b[38;5;66;03m#하이퍼파라미터 튜닝\u001b[39;00m\n\u001b[0;32m----> 2\u001b[0m tuned_top3 \u001b[38;5;241m=\u001b[39m [tune_model(i) \u001b[38;5;28;01mfor\u001b[39;00m i \u001b[38;5;129;01min\u001b[39;00m top3]\n",
      "Cell \u001b[0;32mIn[27], line 2\u001b[0m, in \u001b[0;36m<listcomp>\u001b[0;34m(.0)\u001b[0m\n\u001b[1;32m      1\u001b[0m \u001b[38;5;66;03m#하이퍼파라미터 튜닝\u001b[39;00m\n\u001b[0;32m----> 2\u001b[0m tuned_top3 \u001b[38;5;241m=\u001b[39m [tune_model(i) \u001b[38;5;28;01mfor\u001b[39;00m i \u001b[38;5;129;01min\u001b[39;00m top3]\n",
      "File \u001b[0;32m~/anaconda3/lib/python3.11/site-packages/pycaret/utils/generic.py:965\u001b[0m, in \u001b[0;36mcheck_if_global_is_not_none.<locals>.decorator.<locals>.wrapper\u001b[0;34m(*args, **kwargs)\u001b[0m\n\u001b[1;32m    963\u001b[0m     \u001b[38;5;28;01mif\u001b[39;00m globals_d[name] \u001b[38;5;129;01mis\u001b[39;00m \u001b[38;5;28;01mNone\u001b[39;00m:\n\u001b[1;32m    964\u001b[0m         \u001b[38;5;28;01mraise\u001b[39;00m \u001b[38;5;167;01mValueError\u001b[39;00m(message)\n\u001b[0;32m--> 965\u001b[0m \u001b[38;5;28;01mreturn\u001b[39;00m func(\u001b[38;5;241m*\u001b[39margs, \u001b[38;5;241m*\u001b[39m\u001b[38;5;241m*\u001b[39mkwargs)\n",
      "File \u001b[0;32m~/anaconda3/lib/python3.11/site-packages/pycaret/classification/functional.py:1208\u001b[0m, in \u001b[0;36mtune_model\u001b[0;34m(estimator, fold, round, n_iter, custom_grid, optimize, custom_scorer, search_library, search_algorithm, early_stopping, early_stopping_max_iters, choose_better, fit_kwargs, groups, return_tuner, verbose, tuner_verbose, return_train_score, **kwargs)\u001b[0m\n\u001b[1;32m   1017\u001b[0m \u001b[38;5;129m@check_if_global_is_not_none\u001b[39m(\u001b[38;5;28mglobals\u001b[39m(), _CURRENT_EXPERIMENT_DECORATOR_DICT)\n\u001b[1;32m   1018\u001b[0m \u001b[38;5;28;01mdef\u001b[39;00m \u001b[38;5;21mtune_model\u001b[39m(\n\u001b[1;32m   1019\u001b[0m     estimator,\n\u001b[0;32m   (...)\u001b[0m\n\u001b[1;32m   1037\u001b[0m     \u001b[38;5;241m*\u001b[39m\u001b[38;5;241m*\u001b[39mkwargs,\n\u001b[1;32m   1038\u001b[0m ) \u001b[38;5;241m-\u001b[39m\u001b[38;5;241m>\u001b[39m Any:\n\u001b[1;32m   1039\u001b[0m \u001b[38;5;250m    \u001b[39m\u001b[38;5;124;03m\"\"\"\u001b[39;00m\n\u001b[1;32m   1040\u001b[0m \u001b[38;5;124;03m    This function tunes the hyperparameters of a given estimator. The output of\u001b[39;00m\n\u001b[1;32m   1041\u001b[0m \u001b[38;5;124;03m    this function is a score grid with CV scores by fold of the best selected\u001b[39;00m\n\u001b[0;32m   (...)\u001b[0m\n\u001b[1;32m   1205\u001b[0m \n\u001b[1;32m   1206\u001b[0m \u001b[38;5;124;03m    \"\"\"\u001b[39;00m\n\u001b[0;32m-> 1208\u001b[0m     \u001b[38;5;28;01mreturn\u001b[39;00m _CURRENT_EXPERIMENT\u001b[38;5;241m.\u001b[39mtune_model(\n\u001b[1;32m   1209\u001b[0m         estimator\u001b[38;5;241m=\u001b[39mestimator,\n\u001b[1;32m   1210\u001b[0m         fold\u001b[38;5;241m=\u001b[39mfold,\n\u001b[1;32m   1211\u001b[0m         \u001b[38;5;28mround\u001b[39m\u001b[38;5;241m=\u001b[39m\u001b[38;5;28mround\u001b[39m,\n\u001b[1;32m   1212\u001b[0m         n_iter\u001b[38;5;241m=\u001b[39mn_iter,\n\u001b[1;32m   1213\u001b[0m         custom_grid\u001b[38;5;241m=\u001b[39mcustom_grid,\n\u001b[1;32m   1214\u001b[0m         optimize\u001b[38;5;241m=\u001b[39moptimize,\n\u001b[1;32m   1215\u001b[0m         custom_scorer\u001b[38;5;241m=\u001b[39mcustom_scorer,\n\u001b[1;32m   1216\u001b[0m         search_library\u001b[38;5;241m=\u001b[39msearch_library,\n\u001b[1;32m   1217\u001b[0m         search_algorithm\u001b[38;5;241m=\u001b[39msearch_algorithm,\n\u001b[1;32m   1218\u001b[0m         early_stopping\u001b[38;5;241m=\u001b[39mearly_stopping,\n\u001b[1;32m   1219\u001b[0m         early_stopping_max_iters\u001b[38;5;241m=\u001b[39mearly_stopping_max_iters,\n\u001b[1;32m   1220\u001b[0m         choose_better\u001b[38;5;241m=\u001b[39mchoose_better,\n\u001b[1;32m   1221\u001b[0m         fit_kwargs\u001b[38;5;241m=\u001b[39mfit_kwargs,\n\u001b[1;32m   1222\u001b[0m         groups\u001b[38;5;241m=\u001b[39mgroups,\n\u001b[1;32m   1223\u001b[0m         return_tuner\u001b[38;5;241m=\u001b[39mreturn_tuner,\n\u001b[1;32m   1224\u001b[0m         verbose\u001b[38;5;241m=\u001b[39mverbose,\n\u001b[1;32m   1225\u001b[0m         tuner_verbose\u001b[38;5;241m=\u001b[39mtuner_verbose,\n\u001b[1;32m   1226\u001b[0m         return_train_score\u001b[38;5;241m=\u001b[39mreturn_train_score,\n\u001b[1;32m   1227\u001b[0m         \u001b[38;5;241m*\u001b[39m\u001b[38;5;241m*\u001b[39mkwargs,\n\u001b[1;32m   1228\u001b[0m     )\n",
      "File \u001b[0;32m~/anaconda3/lib/python3.11/site-packages/pycaret/classification/oop.py:1558\u001b[0m, in \u001b[0;36mClassificationExperiment.tune_model\u001b[0;34m(self, estimator, fold, round, n_iter, custom_grid, optimize, custom_scorer, search_library, search_algorithm, early_stopping, early_stopping_max_iters, choose_better, fit_kwargs, groups, return_tuner, verbose, tuner_verbose, return_train_score, **kwargs)\u001b[0m\n\u001b[1;32m   1367\u001b[0m \u001b[38;5;28;01mdef\u001b[39;00m \u001b[38;5;21mtune_model\u001b[39m(\n\u001b[1;32m   1368\u001b[0m     \u001b[38;5;28mself\u001b[39m,\n\u001b[1;32m   1369\u001b[0m     estimator,\n\u001b[0;32m   (...)\u001b[0m\n\u001b[1;32m   1387\u001b[0m     \u001b[38;5;241m*\u001b[39m\u001b[38;5;241m*\u001b[39mkwargs,\n\u001b[1;32m   1388\u001b[0m ) \u001b[38;5;241m-\u001b[39m\u001b[38;5;241m>\u001b[39m Any:\n\u001b[1;32m   1389\u001b[0m \u001b[38;5;250m    \u001b[39m\u001b[38;5;124;03m\"\"\"\u001b[39;00m\n\u001b[1;32m   1390\u001b[0m \u001b[38;5;124;03m    This function tunes the hyperparameters of a given estimator. The output of\u001b[39;00m\n\u001b[1;32m   1391\u001b[0m \u001b[38;5;124;03m    this function is a score grid with CV scores by fold of the best selected\u001b[39;00m\n\u001b[0;32m   (...)\u001b[0m\n\u001b[1;32m   1555\u001b[0m \n\u001b[1;32m   1556\u001b[0m \u001b[38;5;124;03m    \"\"\"\u001b[39;00m\n\u001b[0;32m-> 1558\u001b[0m     \u001b[38;5;28;01mreturn\u001b[39;00m \u001b[38;5;28msuper\u001b[39m()\u001b[38;5;241m.\u001b[39mtune_model(\n\u001b[1;32m   1559\u001b[0m         estimator\u001b[38;5;241m=\u001b[39mestimator,\n\u001b[1;32m   1560\u001b[0m         fold\u001b[38;5;241m=\u001b[39mfold,\n\u001b[1;32m   1561\u001b[0m         \u001b[38;5;28mround\u001b[39m\u001b[38;5;241m=\u001b[39m\u001b[38;5;28mround\u001b[39m,\n\u001b[1;32m   1562\u001b[0m         n_iter\u001b[38;5;241m=\u001b[39mn_iter,\n\u001b[1;32m   1563\u001b[0m         custom_grid\u001b[38;5;241m=\u001b[39mcustom_grid,\n\u001b[1;32m   1564\u001b[0m         optimize\u001b[38;5;241m=\u001b[39moptimize,\n\u001b[1;32m   1565\u001b[0m         custom_scorer\u001b[38;5;241m=\u001b[39mcustom_scorer,\n\u001b[1;32m   1566\u001b[0m         search_library\u001b[38;5;241m=\u001b[39msearch_library,\n\u001b[1;32m   1567\u001b[0m         search_algorithm\u001b[38;5;241m=\u001b[39msearch_algorithm,\n\u001b[1;32m   1568\u001b[0m         early_stopping\u001b[38;5;241m=\u001b[39mearly_stopping,\n\u001b[1;32m   1569\u001b[0m         early_stopping_max_iters\u001b[38;5;241m=\u001b[39mearly_stopping_max_iters,\n\u001b[1;32m   1570\u001b[0m         choose_better\u001b[38;5;241m=\u001b[39mchoose_better,\n\u001b[1;32m   1571\u001b[0m         fit_kwargs\u001b[38;5;241m=\u001b[39mfit_kwargs,\n\u001b[1;32m   1572\u001b[0m         groups\u001b[38;5;241m=\u001b[39mgroups,\n\u001b[1;32m   1573\u001b[0m         return_tuner\u001b[38;5;241m=\u001b[39mreturn_tuner,\n\u001b[1;32m   1574\u001b[0m         verbose\u001b[38;5;241m=\u001b[39mverbose,\n\u001b[1;32m   1575\u001b[0m         tuner_verbose\u001b[38;5;241m=\u001b[39mtuner_verbose,\n\u001b[1;32m   1576\u001b[0m         return_train_score\u001b[38;5;241m=\u001b[39mreturn_train_score,\n\u001b[1;32m   1577\u001b[0m         \u001b[38;5;241m*\u001b[39m\u001b[38;5;241m*\u001b[39mkwargs,\n\u001b[1;32m   1578\u001b[0m     )\n",
      "File \u001b[0;32m~/anaconda3/lib/python3.11/site-packages/pycaret/internal/pycaret_experiment/supervised_experiment.py:2672\u001b[0m, in \u001b[0;36m_SupervisedExperiment.tune_model\u001b[0;34m(self, estimator, fold, round, n_iter, custom_grid, optimize, custom_scorer, search_library, search_algorithm, early_stopping, early_stopping_max_iters, choose_better, fit_kwargs, groups, return_tuner, verbose, tuner_verbose, return_train_score, **kwargs)\u001b[0m\n\u001b[1;32m   2664\u001b[0m     \u001b[38;5;28;01mwith\u001b[39;00m patch(\n\u001b[1;32m   2665\u001b[0m         \u001b[38;5;124m\"\u001b[39m\u001b[38;5;124msklearn.model_selection._search.sample_without_replacement\u001b[39m\u001b[38;5;124m\"\u001b[39m,\n\u001b[1;32m   2666\u001b[0m         pycaret\u001b[38;5;241m.\u001b[39minternal\u001b[38;5;241m.\u001b[39mpatches\u001b[38;5;241m.\u001b[39msklearn\u001b[38;5;241m.\u001b[39m_mp_sample_without_replacement,\n\u001b[1;32m   2667\u001b[0m     ):\n\u001b[1;32m   2668\u001b[0m         \u001b[38;5;28;01mwith\u001b[39;00m patch(\n\u001b[1;32m   2669\u001b[0m             \u001b[38;5;124m\"\u001b[39m\u001b[38;5;124msklearn.model_selection._search.ParameterGrid.__getitem__\u001b[39m\u001b[38;5;124m\"\u001b[39m,\n\u001b[1;32m   2670\u001b[0m             pycaret\u001b[38;5;241m.\u001b[39minternal\u001b[38;5;241m.\u001b[39mpatches\u001b[38;5;241m.\u001b[39msklearn\u001b[38;5;241m.\u001b[39m_mp_ParameterGrid_getitem,\n\u001b[1;32m   2671\u001b[0m         ):\n\u001b[0;32m-> 2672\u001b[0m             model_grid\u001b[38;5;241m.\u001b[39mfit(data_X, data_y, groups\u001b[38;5;241m=\u001b[39mgroups, \u001b[38;5;241m*\u001b[39m\u001b[38;5;241m*\u001b[39mfit_kwargs)\n\u001b[1;32m   2673\u001b[0m \u001b[38;5;28;01melse\u001b[39;00m:\n\u001b[1;32m   2674\u001b[0m     model_grid\u001b[38;5;241m.\u001b[39mfit(data_X, data_y, groups\u001b[38;5;241m=\u001b[39mgroups, \u001b[38;5;241m*\u001b[39m\u001b[38;5;241m*\u001b[39mfit_kwargs)\n",
      "File \u001b[0;32m~/anaconda3/lib/python3.11/site-packages/sklearn/model_selection/_search.py:874\u001b[0m, in \u001b[0;36mBaseSearchCV.fit\u001b[0;34m(self, X, y, groups, **fit_params)\u001b[0m\n\u001b[1;32m    868\u001b[0m     results \u001b[38;5;241m=\u001b[39m \u001b[38;5;28mself\u001b[39m\u001b[38;5;241m.\u001b[39m_format_results(\n\u001b[1;32m    869\u001b[0m         all_candidate_params, n_splits, all_out, all_more_results\n\u001b[1;32m    870\u001b[0m     )\n\u001b[1;32m    872\u001b[0m     \u001b[38;5;28;01mreturn\u001b[39;00m results\n\u001b[0;32m--> 874\u001b[0m \u001b[38;5;28mself\u001b[39m\u001b[38;5;241m.\u001b[39m_run_search(evaluate_candidates)\n\u001b[1;32m    876\u001b[0m \u001b[38;5;66;03m# multimetric is determined here because in the case of a callable\u001b[39;00m\n\u001b[1;32m    877\u001b[0m \u001b[38;5;66;03m# self.scoring the return type is only known after calling\u001b[39;00m\n\u001b[1;32m    878\u001b[0m first_test_score \u001b[38;5;241m=\u001b[39m all_out[\u001b[38;5;241m0\u001b[39m][\u001b[38;5;124m\"\u001b[39m\u001b[38;5;124mtest_scores\u001b[39m\u001b[38;5;124m\"\u001b[39m]\n",
      "File \u001b[0;32m~/anaconda3/lib/python3.11/site-packages/sklearn/model_selection/_search.py:1768\u001b[0m, in \u001b[0;36mRandomizedSearchCV._run_search\u001b[0;34m(self, evaluate_candidates)\u001b[0m\n\u001b[1;32m   1766\u001b[0m \u001b[38;5;28;01mdef\u001b[39;00m \u001b[38;5;21m_run_search\u001b[39m(\u001b[38;5;28mself\u001b[39m, evaluate_candidates):\n\u001b[1;32m   1767\u001b[0m \u001b[38;5;250m    \u001b[39m\u001b[38;5;124;03m\"\"\"Search n_iter candidates from param_distributions\"\"\"\u001b[39;00m\n\u001b[0;32m-> 1768\u001b[0m     evaluate_candidates(\n\u001b[1;32m   1769\u001b[0m         ParameterSampler(\n\u001b[1;32m   1770\u001b[0m             \u001b[38;5;28mself\u001b[39m\u001b[38;5;241m.\u001b[39mparam_distributions, \u001b[38;5;28mself\u001b[39m\u001b[38;5;241m.\u001b[39mn_iter, random_state\u001b[38;5;241m=\u001b[39m\u001b[38;5;28mself\u001b[39m\u001b[38;5;241m.\u001b[39mrandom_state\n\u001b[1;32m   1771\u001b[0m         )\n\u001b[1;32m   1772\u001b[0m     )\n",
      "File \u001b[0;32m~/anaconda3/lib/python3.11/site-packages/sklearn/model_selection/_search.py:821\u001b[0m, in \u001b[0;36mBaseSearchCV.fit.<locals>.evaluate_candidates\u001b[0;34m(candidate_params, cv, more_results)\u001b[0m\n\u001b[1;32m    813\u001b[0m \u001b[38;5;28;01mif\u001b[39;00m \u001b[38;5;28mself\u001b[39m\u001b[38;5;241m.\u001b[39mverbose \u001b[38;5;241m>\u001b[39m \u001b[38;5;241m0\u001b[39m:\n\u001b[1;32m    814\u001b[0m     \u001b[38;5;28mprint\u001b[39m(\n\u001b[1;32m    815\u001b[0m         \u001b[38;5;124m\"\u001b[39m\u001b[38;5;124mFitting \u001b[39m\u001b[38;5;132;01m{0}\u001b[39;00m\u001b[38;5;124m folds for each of \u001b[39m\u001b[38;5;132;01m{1}\u001b[39;00m\u001b[38;5;124m candidates,\u001b[39m\u001b[38;5;124m\"\u001b[39m\n\u001b[1;32m    816\u001b[0m         \u001b[38;5;124m\"\u001b[39m\u001b[38;5;124m totalling \u001b[39m\u001b[38;5;132;01m{2}\u001b[39;00m\u001b[38;5;124m fits\u001b[39m\u001b[38;5;124m\"\u001b[39m\u001b[38;5;241m.\u001b[39mformat(\n\u001b[1;32m    817\u001b[0m             n_splits, n_candidates, n_candidates \u001b[38;5;241m*\u001b[39m n_splits\n\u001b[1;32m    818\u001b[0m         )\n\u001b[1;32m    819\u001b[0m     )\n\u001b[0;32m--> 821\u001b[0m out \u001b[38;5;241m=\u001b[39m parallel(\n\u001b[1;32m    822\u001b[0m     delayed(_fit_and_score)(\n\u001b[1;32m    823\u001b[0m         clone(base_estimator),\n\u001b[1;32m    824\u001b[0m         X,\n\u001b[1;32m    825\u001b[0m         y,\n\u001b[1;32m    826\u001b[0m         train\u001b[38;5;241m=\u001b[39mtrain,\n\u001b[1;32m    827\u001b[0m         test\u001b[38;5;241m=\u001b[39mtest,\n\u001b[1;32m    828\u001b[0m         parameters\u001b[38;5;241m=\u001b[39mparameters,\n\u001b[1;32m    829\u001b[0m         split_progress\u001b[38;5;241m=\u001b[39m(split_idx, n_splits),\n\u001b[1;32m    830\u001b[0m         candidate_progress\u001b[38;5;241m=\u001b[39m(cand_idx, n_candidates),\n\u001b[1;32m    831\u001b[0m         \u001b[38;5;241m*\u001b[39m\u001b[38;5;241m*\u001b[39mfit_and_score_kwargs,\n\u001b[1;32m    832\u001b[0m     )\n\u001b[1;32m    833\u001b[0m     \u001b[38;5;28;01mfor\u001b[39;00m (cand_idx, parameters), (split_idx, (train, test)) \u001b[38;5;129;01min\u001b[39;00m product(\n\u001b[1;32m    834\u001b[0m         \u001b[38;5;28menumerate\u001b[39m(candidate_params), \u001b[38;5;28menumerate\u001b[39m(cv\u001b[38;5;241m.\u001b[39msplit(X, y, groups))\n\u001b[1;32m    835\u001b[0m     )\n\u001b[1;32m    836\u001b[0m )\n\u001b[1;32m    838\u001b[0m \u001b[38;5;28;01mif\u001b[39;00m \u001b[38;5;28mlen\u001b[39m(out) \u001b[38;5;241m<\u001b[39m \u001b[38;5;241m1\u001b[39m:\n\u001b[1;32m    839\u001b[0m     \u001b[38;5;28;01mraise\u001b[39;00m \u001b[38;5;167;01mValueError\u001b[39;00m(\n\u001b[1;32m    840\u001b[0m         \u001b[38;5;124m\"\u001b[39m\u001b[38;5;124mNo fits were performed. \u001b[39m\u001b[38;5;124m\"\u001b[39m\n\u001b[1;32m    841\u001b[0m         \u001b[38;5;124m\"\u001b[39m\u001b[38;5;124mWas the CV iterator empty? \u001b[39m\u001b[38;5;124m\"\u001b[39m\n\u001b[1;32m    842\u001b[0m         \u001b[38;5;124m\"\u001b[39m\u001b[38;5;124mWere there no candidates?\u001b[39m\u001b[38;5;124m\"\u001b[39m\n\u001b[1;32m    843\u001b[0m     )\n",
      "File \u001b[0;32m~/anaconda3/lib/python3.11/site-packages/sklearn/utils/parallel.py:63\u001b[0m, in \u001b[0;36mParallel.__call__\u001b[0;34m(self, iterable)\u001b[0m\n\u001b[1;32m     58\u001b[0m config \u001b[38;5;241m=\u001b[39m get_config()\n\u001b[1;32m     59\u001b[0m iterable_with_config \u001b[38;5;241m=\u001b[39m (\n\u001b[1;32m     60\u001b[0m     (_with_config(delayed_func, config), args, kwargs)\n\u001b[1;32m     61\u001b[0m     \u001b[38;5;28;01mfor\u001b[39;00m delayed_func, args, kwargs \u001b[38;5;129;01min\u001b[39;00m iterable\n\u001b[1;32m     62\u001b[0m )\n\u001b[0;32m---> 63\u001b[0m \u001b[38;5;28;01mreturn\u001b[39;00m \u001b[38;5;28msuper\u001b[39m()\u001b[38;5;241m.\u001b[39m\u001b[38;5;21m__call__\u001b[39m(iterable_with_config)\n",
      "File \u001b[0;32m~/anaconda3/lib/python3.11/site-packages/joblib/parallel.py:1098\u001b[0m, in \u001b[0;36mParallel.__call__\u001b[0;34m(self, iterable)\u001b[0m\n\u001b[1;32m   1095\u001b[0m     \u001b[38;5;28mself\u001b[39m\u001b[38;5;241m.\u001b[39m_iterating \u001b[38;5;241m=\u001b[39m \u001b[38;5;28;01mFalse\u001b[39;00m\n\u001b[1;32m   1097\u001b[0m \u001b[38;5;28;01mwith\u001b[39;00m \u001b[38;5;28mself\u001b[39m\u001b[38;5;241m.\u001b[39m_backend\u001b[38;5;241m.\u001b[39mretrieval_context():\n\u001b[0;32m-> 1098\u001b[0m     \u001b[38;5;28mself\u001b[39m\u001b[38;5;241m.\u001b[39mretrieve()\n\u001b[1;32m   1099\u001b[0m \u001b[38;5;66;03m# Make sure that we get a last message telling us we are done\u001b[39;00m\n\u001b[1;32m   1100\u001b[0m elapsed_time \u001b[38;5;241m=\u001b[39m time\u001b[38;5;241m.\u001b[39mtime() \u001b[38;5;241m-\u001b[39m \u001b[38;5;28mself\u001b[39m\u001b[38;5;241m.\u001b[39m_start_time\n",
      "File \u001b[0;32m~/anaconda3/lib/python3.11/site-packages/joblib/parallel.py:975\u001b[0m, in \u001b[0;36mParallel.retrieve\u001b[0;34m(self)\u001b[0m\n\u001b[1;32m    973\u001b[0m \u001b[38;5;28;01mtry\u001b[39;00m:\n\u001b[1;32m    974\u001b[0m     \u001b[38;5;28;01mif\u001b[39;00m \u001b[38;5;28mgetattr\u001b[39m(\u001b[38;5;28mself\u001b[39m\u001b[38;5;241m.\u001b[39m_backend, \u001b[38;5;124m'\u001b[39m\u001b[38;5;124msupports_timeout\u001b[39m\u001b[38;5;124m'\u001b[39m, \u001b[38;5;28;01mFalse\u001b[39;00m):\n\u001b[0;32m--> 975\u001b[0m         \u001b[38;5;28mself\u001b[39m\u001b[38;5;241m.\u001b[39m_output\u001b[38;5;241m.\u001b[39mextend(job\u001b[38;5;241m.\u001b[39mget(timeout\u001b[38;5;241m=\u001b[39m\u001b[38;5;28mself\u001b[39m\u001b[38;5;241m.\u001b[39mtimeout))\n\u001b[1;32m    976\u001b[0m     \u001b[38;5;28;01melse\u001b[39;00m:\n\u001b[1;32m    977\u001b[0m         \u001b[38;5;28mself\u001b[39m\u001b[38;5;241m.\u001b[39m_output\u001b[38;5;241m.\u001b[39mextend(job\u001b[38;5;241m.\u001b[39mget())\n",
      "File \u001b[0;32m~/anaconda3/lib/python3.11/site-packages/joblib/_parallel_backends.py:567\u001b[0m, in \u001b[0;36mLokyBackend.wrap_future_result\u001b[0;34m(future, timeout)\u001b[0m\n\u001b[1;32m    564\u001b[0m \u001b[38;5;250m\u001b[39m\u001b[38;5;124;03m\"\"\"Wrapper for Future.result to implement the same behaviour as\u001b[39;00m\n\u001b[1;32m    565\u001b[0m \u001b[38;5;124;03mAsyncResults.get from multiprocessing.\"\"\"\u001b[39;00m\n\u001b[1;32m    566\u001b[0m \u001b[38;5;28;01mtry\u001b[39;00m:\n\u001b[0;32m--> 567\u001b[0m     \u001b[38;5;28;01mreturn\u001b[39;00m future\u001b[38;5;241m.\u001b[39mresult(timeout\u001b[38;5;241m=\u001b[39mtimeout)\n\u001b[1;32m    568\u001b[0m \u001b[38;5;28;01mexcept\u001b[39;00m CfTimeoutError \u001b[38;5;28;01mas\u001b[39;00m e:\n\u001b[1;32m    569\u001b[0m     \u001b[38;5;28;01mraise\u001b[39;00m \u001b[38;5;167;01mTimeoutError\u001b[39;00m \u001b[38;5;28;01mfrom\u001b[39;00m \u001b[38;5;21;01me\u001b[39;00m\n",
      "File \u001b[0;32m~/anaconda3/lib/python3.11/concurrent/futures/_base.py:451\u001b[0m, in \u001b[0;36mFuture.result\u001b[0;34m(self, timeout)\u001b[0m\n\u001b[1;32m    448\u001b[0m \u001b[38;5;28;01melif\u001b[39;00m \u001b[38;5;28mself\u001b[39m\u001b[38;5;241m.\u001b[39m_state \u001b[38;5;241m==\u001b[39m FINISHED:\n\u001b[1;32m    449\u001b[0m     \u001b[38;5;28;01mreturn\u001b[39;00m \u001b[38;5;28mself\u001b[39m\u001b[38;5;241m.\u001b[39m__get_result()\n\u001b[0;32m--> 451\u001b[0m \u001b[38;5;28mself\u001b[39m\u001b[38;5;241m.\u001b[39m_condition\u001b[38;5;241m.\u001b[39mwait(timeout)\n\u001b[1;32m    453\u001b[0m \u001b[38;5;28;01mif\u001b[39;00m \u001b[38;5;28mself\u001b[39m\u001b[38;5;241m.\u001b[39m_state \u001b[38;5;129;01min\u001b[39;00m [CANCELLED, CANCELLED_AND_NOTIFIED]:\n\u001b[1;32m    454\u001b[0m     \u001b[38;5;28;01mraise\u001b[39;00m CancelledError()\n",
      "File \u001b[0;32m~/anaconda3/lib/python3.11/threading.py:320\u001b[0m, in \u001b[0;36mCondition.wait\u001b[0;34m(self, timeout)\u001b[0m\n\u001b[1;32m    318\u001b[0m \u001b[38;5;28;01mtry\u001b[39;00m:    \u001b[38;5;66;03m# restore state no matter what (e.g., KeyboardInterrupt)\u001b[39;00m\n\u001b[1;32m    319\u001b[0m     \u001b[38;5;28;01mif\u001b[39;00m timeout \u001b[38;5;129;01mis\u001b[39;00m \u001b[38;5;28;01mNone\u001b[39;00m:\n\u001b[0;32m--> 320\u001b[0m         waiter\u001b[38;5;241m.\u001b[39macquire()\n\u001b[1;32m    321\u001b[0m         gotit \u001b[38;5;241m=\u001b[39m \u001b[38;5;28;01mTrue\u001b[39;00m\n\u001b[1;32m    322\u001b[0m     \u001b[38;5;28;01melse\u001b[39;00m:\n",
      "\u001b[0;31mKeyboardInterrupt\u001b[0m: "
     ]
    }
   ],
   "source": [
    "#하이퍼파라미터 튜닝\n",
    "tuned_top3 = [tune_model(i) for i in top3]"
   ]
  },
  {
   "cell_type": "code",
   "execution_count": null,
   "metadata": {},
   "outputs": [],
   "source": [
    "tuned_rf = tune_model(rf, fold=5, optimize= 'Accuracy')"
   ]
  },
  {
   "cell_type": "code",
   "execution_count": null,
   "metadata": {},
   "outputs": [],
   "source": [
    "#모델 Blening선택한 모델을 조합하여 더욱 강력한 앙상블 모델 만들기, 기본적으로 10번 학습함\n",
    "blender_top3 = blend_models(estimator_list=tuned_top3, verbose=True, method='auto')"
   ]
  },
  {
   "cell_type": "code",
   "execution_count": null,
   "metadata": {},
   "outputs": [],
   "source": [
    "#모델 다시 tuning_예측성능을 올리기\n",
    "blender_tune3 = tune_model(blender_top3)"
   ]
  },
  {
   "cell_type": "markdown",
   "metadata": {},
   "source": [
    "## 최종 모델 예측 및 평가\n"
   ]
  },
  {
   "cell_type": "code",
   "execution_count": null,
   "metadata": {},
   "outputs": [],
   "source": [
    "#최종 모델 예측\n",
    "final_model = finalize_model(blender_tune3)\n",
    "prediction = predict_model(final_model, data=ml_df)"
   ]
  },
  {
   "cell_type": "code",
   "execution_count": null,
   "metadata": {},
   "outputs": [],
   "source": [
    "prediction = prediction['Label']\n",
    "prediction"
   ]
  },
  {
   "cell_type": "code",
   "execution_count": null,
   "metadata": {},
   "outputs": [],
   "source": [
    "#평가\n",
    "from pycaret.utios import check_metric\n",
    "check_metric(dataset['Purchase'], prediction, metric='Accuracy')"
   ]
  },
  {
   "cell_type": "code",
   "execution_count": null,
   "metadata": {},
   "outputs": [],
   "source": []
  },
  {
   "cell_type": "markdown",
   "metadata": {},
   "source": [
    "## input 내 이력맞춤 추천"
   ]
  },
  {
   "cell_type": "code",
   "execution_count": null,
   "metadata": {},
   "outputs": [],
   "source": [
    "user_input = {\n",
    "    '연령': float(input(\"연령을 입력하세요: \")),\n",
    "    '장애유형': input(\"장애유형을 입력하세요: \"),\n",
    "    '중증여부': input(\"중증여부를 입력하세요: \"),\n",
    "    '근무지역': input(\"근무지역을 입력하세요: \"),\n",
    "}\n",
    "\n",
    "user_data = pd.DataFrame([user_input])\n",
    "\n",
    "# PyCaret 모델에 사용자 입력을 추가하여 예측\n",
    "predictions = predict_model(best_model, data=user_data)"
   ]
  },
  {
   "cell_type": "code",
   "execution_count": null,
   "metadata": {},
   "outputs": [],
   "source": [
    "# 예측 결과 확인\n",
    "class_probabilities = predictions.iloc[0, 6:]  # 6번째 열부터 취업직종대분류 열까지의 확률 값\n",
    "\n",
    "# 시각화 (파이 차트)\n",
    "fig, ax = plt.subplots(figsize=(8, 4))\n",
    "ax.pie(class_probabilities * 100, labels=class_probabilities.index, autopct='%1.1f%%', colors=['blue', 'green', 'orange'])\n",
    "ax.set_title('내 이력으로 알아본 이력 확률')\n",
    "\n",
    "plt.show()"
   ]
  },
  {
   "cell_type": "code",
   "execution_count": null,
   "metadata": {},
   "outputs": [],
   "source": []
  },
  {
   "cell_type": "code",
   "execution_count": null,
   "metadata": {},
   "outputs": [],
   "source": []
  },
  {
   "cell_type": "code",
   "execution_count": null,
   "metadata": {},
   "outputs": [],
   "source": []
  },
  {
   "cell_type": "markdown",
   "metadata": {},
   "source": [
    "### 전체 코드 flow\n",
    "\n",
    "1. pip install pycaret\n",
    "2. Library\n",
    "3. Load Dataset\n",
    "4. Setup Environment\n",
    "5. Compare Models\n",
    "6. Tune Models\n",
    "7. Predict\n",
    "8. Evaluation"
   ]
  },
  {
   "cell_type": "code",
   "execution_count": null,
   "metadata": {},
   "outputs": [],
   "source": []
  },
  {
   "cell_type": "code",
   "execution_count": null,
   "metadata": {},
   "outputs": [],
   "source": []
  },
  {
   "cell_type": "code",
   "execution_count": null,
   "metadata": {},
   "outputs": [],
   "source": []
  },
  {
   "cell_type": "code",
   "execution_count": null,
   "metadata": {},
   "outputs": [],
   "source": []
  },
  {
   "cell_type": "code",
   "execution_count": null,
   "metadata": {},
   "outputs": [],
   "source": []
  },
  {
   "cell_type": "code",
   "execution_count": null,
   "metadata": {},
   "outputs": [],
   "source": []
  },
  {
   "cell_type": "code",
   "execution_count": null,
   "metadata": {},
   "outputs": [],
   "source": []
  },
  {
   "cell_type": "code",
   "execution_count": null,
   "metadata": {},
   "outputs": [],
   "source": []
  },
  {
   "cell_type": "code",
   "execution_count": null,
   "metadata": {},
   "outputs": [],
   "source": []
  },
  {
   "cell_type": "code",
   "execution_count": null,
   "metadata": {},
   "outputs": [],
   "source": []
  },
  {
   "cell_type": "markdown",
   "metadata": {},
   "source": [
    "---\n",
    "\n",
    "## 경현옵) 사용자로부터 입력"
   ]
  },
  {
   "cell_type": "code",
   "execution_count": 163,
   "metadata": {},
   "outputs": [
    {
     "name": "stdout",
     "output_type": "stream",
     "text": [
      "         연령  장애유형 중증여부 근무지역             취업직종대분류\n",
      "0      26.0  정신장애   중증   경기           경영·행정·사무직\n",
      "1      28.0  지적장애   중증   충북           경영·행정·사무직\n",
      "2      19.0  지적장애   중증   충북           경영·행정·사무직\n",
      "3      22.0  지적장애   중증   충북           경영·행정·사무직\n",
      "4      23.0  지적장애   중증   충북           경영·행정·사무직\n",
      "...     ...   ...  ...  ...                 ...\n",
      "45113  24.0  지체장애   경증   경기  정보통신 연구개발직 및 공학기술직\n",
      "45114  67.0  지체장애   중증   경기              제조 단순직\n",
      "45115  28.0  시각장애   경증   대구           경영·행정·사무직\n",
      "45116  30.0  지체장애   중증   울산    제조 연구개발직 및 공학기술직\n",
      "45117  25.0  정신장애   중증   서울                 과적합\n",
      "\n",
      "[45118 rows x 5 columns]\n"
     ]
    },
    {
     "name": "stderr",
     "output_type": "stream",
     "text": [
      "/var/folders/24/rbd_sd6x4_x2n5j_hwyz8gqh0000gn/T/ipykernel_7092/1907641925.py:13: FutureWarning: The frame.append method is deprecated and will be removed from pandas in a future version. Use pandas.concat instead.\n",
      "  ml_df = ml_df.append(user_data, ignore_index=True)\n"
     ]
    }
   ],
   "source": [
    "user_input = {\n",
    "    '연령': float(input(\"연령을 입력하세요: \")),\n",
    "    '장애유형': input(\"장애유형을 입력하세요: \"),\n",
    "    '중증여부': input(\"중증여부를 입력하세요: \"),\n",
    "    '근무지역': input(\"근무지역을 입력하세요: \"),\n",
    "    '취업직종대분류': '과적합'\n",
    "}\n",
    "\n",
    "user_data = pd.DataFrame([user_input])\n",
    "ml_df = ml_df.append(user_data, ignore_index=True)\n",
    "\n",
    "# 결과 확인\n",
    "print(ml_df)"
   ]
  },
  {
   "cell_type": "code",
   "execution_count": 164,
   "metadata": {},
   "outputs": [],
   "source": [
    "from sklearn.ensemble import RandomForestClassifier\n",
    "from sklearn.model_selection import train_test_split\n",
    "from sklearn.metrics import accuracy_score\n",
    "\n",
    "X = ml_df.iloc[:-1, :][['연령', '장애유형', '중증여부', '근무지역']]\n",
    "y = ml_df.iloc[:-1, :]['취업직종대분류']\n",
    "label_encoder = LabelEncoder()\n",
    "\n",
    "X['장애유형'] = label_encoder.fit_transform(X['장애유형'])\n",
    "X['중증여부'] = label_encoder.fit_transform(X['중증여부'])\n",
    "X['근무지역'] = label_encoder.fit_transform(X['근무지역'])\n",
    "\n",
    "X_train, X_test, y_train, y_test = train_test_split(X, y, test_size=0.2, random_state=42)\n",
    "model = RandomForestClassifier(n_estimators=100, random_state=42)\n",
    "model.fit(X_train, y_train)\n",
    "\n",
    "y_pred = model.predict(X_test)\n",
    "accuracy = accuracy_score(y_test, y_pred)"
   ]
  },
  {
   "cell_type": "code",
   "execution_count": 167,
   "metadata": {},
   "outputs": [
    {
     "name": "stdout",
     "output_type": "stream",
     "text": [
      "경영·행정·사무직: 36.87%\n",
      "제조 연구개발직 및 공학기술직: 33.18%\n",
      "기계 설치·정비·생산직: 29.88%\n"
     ]
    },
    {
     "data": {
      "image/png": "[encoded data removed]",
      "text/plain": [
       "<Figure size 800x400 with 1 Axes>"
      ]
     },
     "metadata": {},
     "output_type": "display_data"
    }
   ],
   "source": [
    "last_row_X = X.iloc[-1:].copy()\n",
    "\n",
    "class_probabilities = model.predict_proba(last_row_X)\n",
    "top_classes_indices = np.argsort(class_probabilities[0])[::-1][:3]\n",
    "\n",
    "for index in top_classes_indices:\n",
    "    class_label = model.classes_[index]\n",
    "    probability = class_probabilities[0, index]\n",
    "    print(f'{class_label}: {probability * 100:.2f}%')\n",
    "\n",
    "# 시각화 (파이 차트)\n",
    "fig, ax = plt.subplots(figsize=(8, 4))\n",
    "ax.pie(class_probabilities[0, top_classes_indices] * 100, labels=model.classes_[top_classes_indices], autopct='%1.1f%%', colors=['blue', 'green', 'orange'])\n",
    "ax.set_title('내 이력으로 알아본 이력 확률')\n",
    "\n",
    "plt.show()\n"
   ]
  }
 ],
 "metadata": {
  "kernelspec": {
   "display_name": "Python 3 (ipykernel)",
   "language": "python",
   "name": "python3"
  },
  "language_info": {
   "codemirror_mode": {
    "name": "ipython",
    "version": 3
   },
   "file_extension": ".py",
   "mimetype": "text/x-python",
   "name": "python",
   "nbconvert_exporter": "python",
   "pygments_lexer": "ipython3",
   "version": "3.11.5"
  }
 },
 "nbformat": 4,
 "nbformat_minor": 2
}
